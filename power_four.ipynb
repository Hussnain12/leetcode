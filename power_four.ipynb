{
 "cells": [
  {
   "cell_type": "code",
   "execution_count": 1,
   "id": "afdbfe14-372c-4a06-8455-cef8de9dda9e",
   "metadata": {},
   "outputs": [],
   "source": [
    "#power of four"
   ]
  },
  {
   "cell_type": "code",
   "execution_count": 40,
   "id": "f8c817cf-31a4-45c1-bcfa-5039ca5a2546",
   "metadata": {},
   "outputs": [
    {
     "data": {
      "text/plain": [
       "78.125"
      ]
     },
     "execution_count": 40,
     "metadata": {},
     "output_type": "execute_result"
    }
   ],
   "source": [
    "n=625\n",
    "n*0.5*0.25"
   ]
  },
  {
   "cell_type": "code",
   "execution_count": 10,
   "id": "f88d1d96-1a77-4c40-96d3-5da3be5a7c6f",
   "metadata": {},
   "outputs": [
    {
     "data": {
      "text/plain": [
       "16"
      ]
     },
     "execution_count": 10,
     "metadata": {},
     "output_type": "execute_result"
    }
   ],
   "source": [
    "2**4"
   ]
  },
  {
   "cell_type": "code",
   "execution_count": 18,
   "id": "ffb120c1-5978-43e8-9857-2f5502173db0",
   "metadata": {},
   "outputs": [
    {
     "data": {
      "text/plain": [
       "81"
      ]
     },
     "execution_count": 18,
     "metadata": {},
     "output_type": "execute_result"
    }
   ],
   "source": [
    "3**4"
   ]
  },
  {
   "cell_type": "code",
   "execution_count": 20,
   "id": "17a63386-d059-4385-bc37-9c663fb6bc88",
   "metadata": {},
   "outputs": [
    {
     "data": {
      "text/plain": [
       "0.25"
      ]
     },
     "execution_count": 20,
     "metadata": {},
     "output_type": "execute_result"
    }
   ],
   "source": [
    "0.5/2"
   ]
  },
  {
   "cell_type": "code",
   "execution_count": 34,
   "id": "7f0decc1-8ab0-4b82-839b-b895f4cc463e",
   "metadata": {},
   "outputs": [
    {
     "data": {
      "text/plain": [
       "625"
      ]
     },
     "execution_count": 34,
     "metadata": {},
     "output_type": "execute_result"
    }
   ],
   "source": [
    "5**4"
   ]
  },
  {
   "cell_type": "code",
   "execution_count": 41,
   "id": "74976f1d-2600-4a77-912e-a6e661edcc05",
   "metadata": {},
   "outputs": [],
   "source": [
    "import math"
   ]
  },
  {
   "cell_type": "code",
   "execution_count": 59,
   "id": "7a3a5ff2-58cd-4a21-82d0-d260f8e9e6f8",
   "metadata": {},
   "outputs": [
    {
     "data": {
      "text/plain": [
       "2.8284271247461903"
      ]
     },
     "execution_count": 59,
     "metadata": {},
     "output_type": "execute_result"
    }
   ],
   "source": [
    "math.sqrt(math.sqrt(64)) \n"
   ]
  },
  {
   "cell_type": "code",
   "execution_count": 55,
   "id": "12e0d63b-54ee-4ffc-a9e7-b47481456f98",
   "metadata": {},
   "outputs": [
    {
     "data": {
      "text/plain": [
       "2147483648"
      ]
     },
     "execution_count": 55,
     "metadata": {},
     "output_type": "execute_result"
    }
   ],
   "source": [
    "abs(-2147483648)"
   ]
  },
  {
   "cell_type": "code",
   "execution_count": 58,
   "id": "e0ff8e6e-c429-41c4-a826-f9e04ac7646b",
   "metadata": {},
   "outputs": [
    {
     "data": {
      "text/plain": [
       "1"
      ]
     },
     "execution_count": 58,
     "metadata": {},
     "output_type": "execute_result"
    }
   ],
   "source": [
    "1**4"
   ]
  },
  {
   "cell_type": "code",
   "execution_count": null,
   "id": "be7b7f0e-3b69-4153-a9e9-550ac536b43d",
   "metadata": {},
   "outputs": [],
   "source": []
  }
 ],
 "metadata": {
  "kernelspec": {
   "display_name": "Python 3 (ipykernel)",
   "language": "python",
   "name": "python3"
  },
  "language_info": {
   "codemirror_mode": {
    "name": "ipython",
    "version": 3
   },
   "file_extension": ".py",
   "mimetype": "text/x-python",
   "name": "python",
   "nbconvert_exporter": "python",
   "pygments_lexer": "ipython3",
   "version": "3.11.2"
  }
 },
 "nbformat": 4,
 "nbformat_minor": 5
}
