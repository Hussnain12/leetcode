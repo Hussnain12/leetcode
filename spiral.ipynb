{
 "cells": [
  {
   "cell_type": "code",
   "execution_count": 47,
   "id": "25b7e301-855e-4e2a-a942-43f6b61f51be",
   "metadata": {},
   "outputs": [],
   "source": [
    "row,col=(3,3)"
   ]
  },
  {
   "cell_type": "code",
   "execution_count": 48,
   "id": "6612a0b8-c92f-41aa-8e56-fbb6b99ef450",
   "metadata": {},
   "outputs": [],
   "source": [
    "spiral=[[0]*col]*row"
   ]
  },
  {
   "cell_type": "code",
   "execution_count": 49,
   "id": "50f13b3b-1743-43e8-ae8b-1fd967252e69",
   "metadata": {},
   "outputs": [],
   "source": [
    "count=0\n",
    "for i in range(0,3):\n",
    "    for j in range(0,3):\n",
    "        spiral[i][j]=i+1\n",
    "    # count+=1"
   ]
  },
  {
   "cell_type": "code",
   "execution_count": 56,
   "id": "c4912036-56b1-4d80-b1a7-f98c6feb13dd",
   "metadata": {},
   "outputs": [],
   "source": [
    "spiral=[[0, 2, 3], [5, 3, 3], [3, 3, 3]]"
   ]
  },
  {
   "cell_type": "code",
   "execution_count": 58,
   "id": "4d32d5df-d7f3-4419-9b26-8eec87bbe3d2",
   "metadata": {},
   "outputs": [
    {
     "data": {
      "text/plain": [
       "2"
      ]
     },
     "execution_count": 58,
     "metadata": {},
     "output_type": "execute_result"
    }
   ],
   "source": [
    "spiral[0][1]"
   ]
  },
  {
   "cell_type": "code",
   "execution_count": 69,
   "id": "faf76442-8876-4baa-ae72-bac8ca556532",
   "metadata": {},
   "outputs": [],
   "source": [
    "count=1\n",
    "for i in range(0,3):\n",
    "    for j in range(0,3):\n",
    "        if i == 0:\n",
    "            spiral[i][j]=count\n",
    "        if count == (3^2) -1:\n",
    "            spiral[i][0]=count\n",
    "        elif i == 1:\n",
    "            spiral[i][-1]=count\n",
    "        count+=1"
   ]
  },
  {
   "cell_type": "code",
   "execution_count": 70,
   "id": "a306ca51-1568-4811-a931-5910fd73502b",
   "metadata": {},
   "outputs": [
    {
     "data": {
      "text/plain": [
       "[[1, 2, 3], [5, 5, 6], [3, 6, 3]]"
      ]
     },
     "execution_count": 70,
     "metadata": {},
     "output_type": "execute_result"
    }
   ],
   "source": [
    "spiral"
   ]
  },
  {
   "cell_type": "code",
   "execution_count": null,
   "id": "cc5d64af-81aa-4ad7-8c14-3499ab2ec545",
   "metadata": {},
   "outputs": [],
   "source": []
  }
 ],
 "metadata": {
  "kernelspec": {
   "display_name": "Python 3 (ipykernel)",
   "language": "python",
   "name": "python3"
  },
  "language_info": {
   "codemirror_mode": {
    "name": "ipython",
    "version": 3
   },
   "file_extension": ".py",
   "mimetype": "text/x-python",
   "name": "python",
   "nbconvert_exporter": "python",
   "pygments_lexer": "ipython3",
   "version": "3.11.2"
  }
 },
 "nbformat": 4,
 "nbformat_minor": 5
}
