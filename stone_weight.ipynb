{
 "cells": [
  {
   "cell_type": "code",
   "execution_count": 5,
   "id": "c691f770-38cc-4c53-a938-0cf073cebe2e",
   "metadata": {},
   "outputs": [
    {
     "name": "stdout",
     "output_type": "stream",
     "text": [
      "8\n",
      "7\n",
      "4\n",
      "2\n",
      "2\n",
      "1\n",
      "1\n",
      "1\n",
      "1\n"
     ]
    }
   ],
   "source": [
    "stones = [2,7,4,1,8,1]\n",
    "while True:\n",
    "    if len(stones) == 1:\n",
    "        print(stones[0])\n",
    "        break\n",
    "    if len(stones)<=0:\n",
    "        break\n",
    "    max_1=stones.pop(stones.index(max(stones)))\n",
    "    print(max_1)\n",
    "    max_2=stones.pop(stones.index(max(stones)))\n",
    "    print(max_2)\n",
    "    if max_1==max_2:\n",
    "        pass\n",
    "    if max_2 < max_1:\n",
    "        max_3=max_1-max_2\n",
    "        stones.append(max_3)\n",
    "    \n",
    "return stone"
   ]
  },
  {
   "cell_type": "code",
   "execution_count": 6,
   "id": "b2f1dbe5-7f74-4c66-8cd6-bedbf6d84f03",
   "metadata": {},
   "outputs": [
    {
     "data": {
      "text/plain": [
       "[1]"
      ]
     },
     "execution_count": 6,
     "metadata": {},
     "output_type": "execute_result"
    }
   ],
   "source": [
    "stones"
   ]
  },
  {
   "cell_type": "code",
   "execution_count": null,
   "id": "f56c7e57-cc60-4224-96d3-7165acd56e12",
   "metadata": {},
   "outputs": [],
   "source": []
  }
 ],
 "metadata": {
  "kernelspec": {
   "display_name": "Python 3 (ipykernel)",
   "language": "python",
   "name": "python3"
  },
  "language_info": {
   "codemirror_mode": {
    "name": "ipython",
    "version": 3
   },
   "file_extension": ".py",
   "mimetype": "text/x-python",
   "name": "python",
   "nbconvert_exporter": "python",
   "pygments_lexer": "ipython3",
   "version": "3.11.2"
  }
 },
 "nbformat": 4,
 "nbformat_minor": 5
}
