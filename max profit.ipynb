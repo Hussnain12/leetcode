{
 "cells": [
  {
   "cell_type": "code",
   "execution_count": 1,
   "id": "cc1d9fa6-9c09-4d63-9fa2-1954eb7223ea",
   "metadata": {},
   "outputs": [],
   "source": [
    "#best time to buy and sell stock"
   ]
  },
  {
   "cell_type": "code",
   "execution_count": 60,
   "id": "a6bb8558-c07c-4a8f-8d00-11d8d62c5d2d",
   "metadata": {},
   "outputs": [],
   "source": []
  },
  {
   "cell_type": "code",
   "execution_count": null,
   "id": "65a986a3-12cf-43fa-844a-10b9d9f73239",
   "metadata": {},
   "outputs": [],
   "source": []
  },
  {
   "cell_type": "code",
   "execution_count": 42,
   "id": "43f131d2-6457-4414-be3d-afb97f8722b8",
   "metadata": {},
   "outputs": [
    {
     "data": {
      "text/plain": [
       "1"
      ]
     },
     "execution_count": 42,
     "metadata": {},
     "output_type": "execute_result"
    }
   ],
   "source": [
    "buy"
   ]
  },
  {
   "cell_type": "code",
   "execution_count": 47,
   "id": "89770e8b-0587-478b-91c0-a0c6243afec1",
   "metadata": {},
   "outputs": [
    {
     "ename": "ValueError",
     "evalue": "4 is not in list",
     "output_type": "error",
     "traceback": [
      "\u001b[0;31m---------------------------------------------------------------------------\u001b[0m",
      "\u001b[0;31mValueError\u001b[0m                                Traceback (most recent call last)",
      "Cell \u001b[0;32mIn[47], line 10\u001b[0m\n\u001b[1;32m      8\u001b[0m     \u001b[38;5;28;01mif\u001b[39;00m prices\u001b[38;5;241m.\u001b[39mindex(buy)\u001b[38;5;241m!=\u001b[39m\u001b[38;5;28mlen\u001b[39m(prices)\u001b[38;5;241m-\u001b[39m\u001b[38;5;241m1\u001b[39m:\n\u001b[1;32m      9\u001b[0m         \u001b[38;5;28;01mbreak\u001b[39;00m\n\u001b[0;32m---> 10\u001b[0m sell\u001b[38;5;241m=\u001b[39m\u001b[38;5;28mmax\u001b[39m(prices[\u001b[43mprices\u001b[49m\u001b[38;5;241;43m.\u001b[39;49m\u001b[43mindex\u001b[49m\u001b[43m(\u001b[49m\u001b[43mbuy\u001b[49m\u001b[43m)\u001b[49m:],key\u001b[38;5;241m=\u001b[39m\u001b[38;5;28mint\u001b[39m)\n\u001b[1;32m     11\u001b[0m \u001b[38;5;28mprint\u001b[39m(sell\u001b[38;5;241m-\u001b[39mbuy)\n",
      "\u001b[0;31mValueError\u001b[0m: 4 is not in list"
     ]
    }
   ],
   "source": [
    "while True:\n",
    "    if prices == []:\n",
    "        break\n",
    "    if prices.index(buy)==len(prices)-1:\n",
    "        prices.pop()\n",
    "    if prices !=[]:\n",
    "        buy=min(prices,key=int)\n",
    "    if prices.index(buy)!=len(prices)-1:\n",
    "        break\n",
    "sell=max(prices[prices.index(buy):],key=int)\n",
    "print(sell-buy)"
   ]
  },
  {
   "cell_type": "code",
   "execution_count": 32,
   "id": "f2f0e38f-aee9-4ee9-9a02-d9108abbe7bc",
   "metadata": {},
   "outputs": [
    {
     "data": {
      "text/plain": [
       "6"
      ]
     },
     "execution_count": 32,
     "metadata": {},
     "output_type": "execute_result"
    }
   ],
   "source": [
    "sell"
   ]
  },
  {
   "cell_type": "code",
   "execution_count": 49,
   "id": "2d3e7b6e-a0e9-4e43-ab76-beabf4f4e786",
   "metadata": {},
   "outputs": [
    {
     "ename": "SyntaxError",
     "evalue": "'return' outside function (1761486193.py, line 5)",
     "output_type": "error",
     "traceback": [
      "\u001b[0;36m  Cell \u001b[0;32mIn[49], line 5\u001b[0;36m\u001b[0m\n\u001b[0;31m    return 0\u001b[0m\n\u001b[0m    ^\u001b[0m\n\u001b[0;31mSyntaxError\u001b[0m\u001b[0;31m:\u001b[0m 'return' outside function\n"
     ]
    }
   ],
   "source": [
    "if prices.sort(reverse=True) == prices:\n",
    "    print(0)\n",
    "buy=min(prices,key=int)\n",
    "if prices.index(buy)==len(prices)-1:\n",
    "    return 0\n",
    "sell=max(prices[prices.index(buy):],key=int)\n",
    "return sell-buy"
   ]
  },
  {
   "cell_type": "code",
   "execution_count": 39,
   "id": "447a1f61-6a1b-4eb0-b45e-5f8fa7386351",
   "metadata": {},
   "outputs": [
    {
     "name": "stdout",
     "output_type": "stream",
     "text": [
      "1\n"
     ]
    }
   ],
   "source": [
    "newlist=[]\n",
    "if newlist == []:\n",
    "    print(1)"
   ]
  },
  {
   "cell_type": "code",
   "execution_count": 38,
   "id": "4f18521c-18c0-4bbe-983e-5b8da7a265d5",
   "metadata": {},
   "outputs": [
    {
     "data": {
      "text/plain": [
       "[]"
      ]
     },
     "execution_count": 38,
     "metadata": {},
     "output_type": "execute_result"
    }
   ],
   "source": [
    "newlist"
   ]
  },
  {
   "cell_type": "code",
   "execution_count": 58,
   "id": "8a65a47c-32b3-4897-bd4e-ac042926a8cd",
   "metadata": {},
   "outputs": [
    {
     "name": "stdout",
     "output_type": "stream",
     "text": [
      "[4, 2, 1]\n"
     ]
    }
   ],
   "source": [
    "rev=sorted(prices,reverse=True)\n",
    "print(rev)"
   ]
  },
  {
   "cell_type": "code",
   "execution_count": 61,
   "id": "26864140-6070-4c15-9447-862f814e5484",
   "metadata": {},
   "outputs": [
    {
     "name": "stdout",
     "output_type": "stream",
     "text": [
      "0\n",
      "[4, 2, 1]\n",
      "0\n"
     ]
    },
    {
     "ename": "SyntaxError",
     "evalue": "'return' outside function (2851964858.py, line 8)",
     "output_type": "error",
     "traceback": [
      "\u001b[0;36m  Cell \u001b[0;32mIn[61], line 8\u001b[0;36m\u001b[0m\n\u001b[0;31m    return sell-buy\u001b[0m\n\u001b[0m    ^\u001b[0m\n\u001b[0;31mSyntaxError\u001b[0m\u001b[0;31m:\u001b[0m 'return' outside function\n"
     ]
    }
   ],
   "source": [
    "if rev == prices:\n",
    "    print(0)\n",
    "print(prices)\n",
    "buy=min(prices,key=int)\n",
    "if prices.index(buy)==len(prices)-1:\n",
    "    print(0)\n",
    "sell=max(prices[prices.index(buy):],key=int)\n",
    "return sell-buy"
   ]
  },
  {
   "cell_type": "code",
   "execution_count": 67,
   "id": "b2e95bc4-4923-4a52-bdea-e245206159f9",
   "metadata": {},
   "outputs": [],
   "source": [
    "prices = [2,4,1]\n",
    "# buy=min(prices,key=int)"
   ]
  },
  {
   "cell_type": "code",
   "execution_count": 68,
   "id": "22fa097c-012d-4939-abc7-6b091b65ac16",
   "metadata": {},
   "outputs": [
    {
     "name": "stdout",
     "output_type": "stream",
     "text": [
      "2\n"
     ]
    }
   ],
   "source": [
    "rev=sorted(prices,reverse=True)\n",
    "if rev == prices:\n",
    "    print(0)\n",
    "while True:\n",
    "    buy=min(prices,key=int)\n",
    "    if prices == []:\n",
    "        break\n",
    "    if prices.index(buy)==len(prices)-1:\n",
    "        prices.pop()\n",
    "    if prices !=[]:\n",
    "        buy=min(prices,key=int)\n",
    "    if prices.index(buy)!=len(prices)-1:\n",
    "        break\n",
    "buy=min(prices,key=int)\n",
    "sell=max(prices[prices.index(buy):],key=int)\n",
    "print(sell-buy)"
   ]
  },
  {
   "cell_type": "code",
   "execution_count": null,
   "id": "e5972881-4fa4-4852-9b0e-41e5d6dc2ce6",
   "metadata": {},
   "outputs": [],
   "source": [
    "while True:\n",
    "    if prices == []:\n",
    "        break\n",
    "    if prices.index(buy)==len(prices)-1:\n",
    "        prices.pop()\n",
    "    if prices !=[]:\n",
    "        buy=min(prices,key=int)\n",
    "    if prices.index(buy)!=len(prices)-1:\n",
    "        break\n",
    "sell=max(prices[prices.index(buy):],key=int)\n",
    "print(sell-buy)"
   ]
  }
 ],
 "metadata": {
  "kernelspec": {
   "display_name": "Python 3 (ipykernel)",
   "language": "python",
   "name": "python3"
  },
  "language_info": {
   "codemirror_mode": {
    "name": "ipython",
    "version": 3
   },
   "file_extension": ".py",
   "mimetype": "text/x-python",
   "name": "python",
   "nbconvert_exporter": "python",
   "pygments_lexer": "ipython3",
   "version": "3.11.2"
  }
 },
 "nbformat": 4,
 "nbformat_minor": 5
}
