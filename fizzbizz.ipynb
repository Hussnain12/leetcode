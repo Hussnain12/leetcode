{
 "cells": [
  {
   "cell_type": "code",
   "execution_count": 1,
   "id": "1341b1bd-f3d0-4618-9cfa-60744403f7f0",
   "metadata": {},
   "outputs": [],
   "source": [
    "# fizzbizz"
   ]
  },
  {
   "cell_type": "code",
   "execution_count": 20,
   "id": "7dd18036-dcd4-4187-9eca-f24ffa61378e",
   "metadata": {},
   "outputs": [],
   "source": [
    "n=15\n",
    "output=[]\n",
    "# output.extend([\"1\",\"2\"])\n",
    "for i in range(1,n+1):\n",
    "    if i%5==0 and i%3==0:\n",
    "        output.append(\"FizzBuzz\")\n",
    "    elif i%5==0:\n",
    "        output.append(\"Buzz\")\n",
    "    elif i%3==0:\n",
    "        output.append(\"Fizz\")\n",
    "    else:\n",
    "        output.append(str(i))"
   ]
  },
  {
   "cell_type": "code",
   "execution_count": 21,
   "id": "96437c11-6e28-4364-81af-0cf316d60a63",
   "metadata": {},
   "outputs": [
    {
     "data": {
      "text/plain": [
       "['1',\n",
       " '2',\n",
       " 'Fizz',\n",
       " '4',\n",
       " 'Buzz',\n",
       " 'Fizz',\n",
       " '7',\n",
       " '8',\n",
       " 'Fizz',\n",
       " 'Buzz',\n",
       " '11',\n",
       " 'Fizz',\n",
       " '13',\n",
       " '14',\n",
       " 'FizzBuzz']"
      ]
     },
     "execution_count": 21,
     "metadata": {},
     "output_type": "execute_result"
    }
   ],
   "source": [
    "output"
   ]
  },
  {
   "cell_type": "code",
   "execution_count": 24,
   "id": "55b84f9f-7207-45ac-b667-f7f337c32b57",
   "metadata": {},
   "outputs": [
    {
     "ename": "SyntaxError",
     "evalue": "invalid syntax (938787591.py, line 1)",
     "output_type": "error",
     "traceback": [
      "\u001b[0;36m  Cell \u001b[0;32mIn[24], line 1\u001b[0;36m\u001b[0m\n\u001b[0;31m    n=[i for i in range(1,4) if i%3==0 and i%5==0 \"Fizzbuzz\"]\u001b[0m\n\u001b[0m                                                  ^\u001b[0m\n\u001b[0;31mSyntaxError\u001b[0m\u001b[0;31m:\u001b[0m invalid syntax\n"
     ]
    }
   ],
   "source": [
    "n=[\"FizzBuzz\" if i%5==0 and i%3==0 \"Fizz\" elif i%3==0 \"Buzz\"elif i%5==0 ]"
   ]
  },
  {
   "cell_type": "code",
   "execution_count": 25,
   "id": "e1e73b24-02ca-4ba2-90a6-752c1eb41dcf",
   "metadata": {},
   "outputs": [
    {
     "name": "stdout",
     "output_type": "stream",
     "text": [
      "['1', '2', 'Fizz', '4', 'Buzz', 'Fizz', '7', '8', 'Fizz', 'Buzz', '11', 'Fizz', '13', '14', 'FizzBuzz']\n"
     ]
    }
   ],
   "source": [
    "n = 15\n",
    "output = [\n",
    "    \"FizzBuzz\" if i % 5 == 0 and i % 3 == 0 else\n",
    "    \"Buzz\" if i % 5 == 0 else\n",
    "    \"Fizz\" if i % 3 == 0 else\n",
    "    str(i)\n",
    "    for i in range(1, n + 1)\n",
    "]\n",
    "\n",
    "print(output)\n"
   ]
  },
  {
   "cell_type": "code",
   "execution_count": null,
   "id": "009830f5-2451-49ba-a532-7f7c606ce21a",
   "metadata": {},
   "outputs": [],
   "source": []
  }
 ],
 "metadata": {
  "kernelspec": {
   "display_name": "Python 3 (ipykernel)",
   "language": "python",
   "name": "python3"
  },
  "language_info": {
   "codemirror_mode": {
    "name": "ipython",
    "version": 3
   },
   "file_extension": ".py",
   "mimetype": "text/x-python",
   "name": "python",
   "nbconvert_exporter": "python",
   "pygments_lexer": "ipython3",
   "version": "3.11.2"
  }
 },
 "nbformat": 4,
 "nbformat_minor": 5
}
