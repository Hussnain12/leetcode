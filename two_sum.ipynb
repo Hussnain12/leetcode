{
 "cells": [
  {
   "cell_type": "code",
   "execution_count": 1,
   "id": "b6ece825-a1d8-4276-b16c-ab75fc70b17e",
   "metadata": {},
   "outputs": [],
   "source": [
    "#Given an array of integers nums and an integer target, return indices of the two numbers such that they add up to target.\n",
    "\n",
    "#You may assume that each input would have exactly one solution, and you may not use the same element twice.\n",
    "\n",
    "#You can return the answer in any order.\n",
    "\n",
    " \n",
    "\n",
    "#Example 1:\n",
    "\n",
    "#Input: nums = [2,7,11,15], target = 9\n",
    "#Output: [0,1]\n",
    "#Explanation: Because nums[0] + nums[1] == 9, we return [0, 1].\n",
    "#Example 2:\n",
    "\n",
    "#Input: nums = [3,2,4], target = 6\n",
    "#Output: [1,2]\n",
    "#Example 3:\n",
    "\n",
    "#Input: nums = [3,3], target = 6\n",
    "#Output: [0,1]"
   ]
  },
  {
   "cell_type": "code",
   "execution_count": 2,
   "id": "e954d47a-c408-4e84-aa8a-6a362f461e6a",
   "metadata": {},
   "outputs": [
    {
     "data": {
      "text/plain": [
       "[0, 3]"
      ]
     },
     "execution_count": 2,
     "metadata": {},
     "output_type": "execute_result"
    }
   ],
   "source": [
    "def two_sum(nums,target):\n",
    "    for i in range(0,len(nums)):\n",
    "        for j in range(i,len(nums)-1):\n",
    "            if (nums[i] + nums[j+1]) == target:\n",
    "                return [i,j+1]\n",
    "two_sum([1,2,3,4],5)"
   ]
  },
  {
   "cell_type": "code",
   "execution_count": 3,
   "id": "a6c5e6e5-209f-4672-afe0-f222298875cb",
   "metadata": {},
   "outputs": [],
   "source": [
    "def twoSum(nums, target):\n",
    "        \"\"\"\n",
    "        :type nums: List[int]\n",
    "        :type target: int\n",
    "        :rtype: List[int]\n",
    "        \"\"\"\n",
    "        ans=[]\n",
    "        for i in range(0,len(nums)):\n",
    "            for j in range(i,len(nums)-1):\n",
    "                if (nums[i] + nums[j+1])==target:\n",
    "                    ans.append(i)\n",
    "                    ans.append(j+1)\n",
    "                    return ans"
   ]
  },
  {
   "cell_type": "code",
   "execution_count": 4,
   "id": "444693d9-ff5f-4763-ba38-bd1a682bb302",
   "metadata": {},
   "outputs": [
    {
     "data": {
      "text/plain": [
       "[0, 3]"
      ]
     },
     "execution_count": 4,
     "metadata": {},
     "output_type": "execute_result"
    }
   ],
   "source": [
    "twoSum([1,2,3,4],5)"
   ]
  },
  {
   "cell_type": "code",
   "execution_count": 5,
   "id": "9a4f8bbd-317b-4007-9cb0-49087bfd8329",
   "metadata": {},
   "outputs": [
    {
     "name": "stdout",
     "output_type": "stream",
     "text": [
      "-1\n"
     ]
    },
    {
     "data": {
      "text/plain": [
       "[0, 3]"
      ]
     },
     "execution_count": 5,
     "metadata": {},
     "output_type": "execute_result"
    }
   ],
   "source": [
    "def two_sum(nums,target):\n",
    "    for i in range(0,len(nums)):\n",
    "        new_val=target - nums[i] \n",
    "        print(new_val)\n",
    "        if new_val in nums: \n",
    "            return [i,nums.index(new_val)]\n",
    "two_sum([2,7,11,-1],1)"
   ]
  },
  {
   "cell_type": "code",
   "execution_count": 6,
   "id": "51f57a36-8559-488f-9514-1a03b7a363c5",
   "metadata": {},
   "outputs": [],
   "source": [
    "# my latest answer "
   ]
  },
  {
   "cell_type": "code",
   "execution_count": 7,
   "id": "1693508c-b1b2-4ea1-b49f-4cada3d0ae63",
   "metadata": {},
   "outputs": [],
   "source": [
    "def twoSum(self, nums, target):\n",
    "        \"\"\"\n",
    "        :type nums: List[int]\n",
    "        :type target: int\n",
    "        :rtype: List[int]\n",
    "        \"\"\"\n",
    "        for i in range(0,len(nums)):\n",
    "            new_val=target - nums[i] \n",
    "            if  new_val in nums and not (i ==nums.index(new_val)): \n",
    "                return [i,nums.index(new_val)]"
   ]
  },
  {
   "cell_type": "code",
   "execution_count": 8,
   "id": "3158a719-ae22-4ca3-b375-1528b7a24bb1",
   "metadata": {},
   "outputs": [],
   "source": [
    "# list=[1,2,3]\n",
    "# list[::-1]"
   ]
  },
  {
   "cell_type": "code",
   "execution_count": 10,
   "id": "c5a1fb16-4231-4844-827b-633f007e7028",
   "metadata": {},
   "outputs": [
    {
     "data": {
      "text/plain": [
       "['-', '1', '2', '1']"
      ]
     },
     "execution_count": 10,
     "metadata": {},
     "output_type": "execute_result"
    }
   ],
   "source": [
    "x=str(-121)\n",
    "palin_list=list(x)\n",
    "palin_list"
   ]
  },
  {
   "cell_type": "code",
   "execution_count": null,
   "id": "f8a073ce-b0fc-4c84-be29-02230413df43",
   "metadata": {},
   "outputs": [],
   "source": [
    "# palin_list=x.split()\n",
    "if palin_list[0:]==palin_list[::-1]:\n",
    "    print(True)\n",
    "else:\n",
    "    print(False)"
   ]
  },
  {
   "cell_type": "code",
   "execution_count": null,
   "id": "df7fbd09-09a4-41f7-ada7-c290d3cb225f",
   "metadata": {},
   "outputs": [],
   "source": []
  }
 ],
 "metadata": {
  "kernelspec": {
   "display_name": "Python 3 (ipykernel)",
   "language": "python",
   "name": "python3"
  },
  "language_info": {
   "codemirror_mode": {
    "name": "ipython",
    "version": 3
   },
   "file_extension": ".py",
   "mimetype": "text/x-python",
   "name": "python",
   "nbconvert_exporter": "python",
   "pygments_lexer": "ipython3",
   "version": "3.11.2"
  }
 },
 "nbformat": 4,
 "nbformat_minor": 5
}
