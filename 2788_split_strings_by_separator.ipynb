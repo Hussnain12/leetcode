{
 "cells": [
  {
   "cell_type": "code",
   "execution_count": 28,
   "id": "bcbe53cd-f7d6-4f93-ba78-8d090af0cff5",
   "metadata": {},
   "outputs": [
    {
     "ename": "TypeError",
     "evalue": "expected string or bytes-like object, got 'list'",
     "output_type": "error",
     "traceback": [
      "\u001b[0;31m---------------------------------------------------------------------------\u001b[0m",
      "\u001b[0;31mTypeError\u001b[0m                                 Traceback (most recent call last)",
      "Cell \u001b[0;32mIn[28], line 4\u001b[0m\n\u001b[1;32m      2\u001b[0m sep\u001b[38;5;241m=\u001b[39m\u001b[38;5;124mr\u001b[39m\u001b[38;5;124m'\u001b[39m\u001b[38;5;124m[.,|$#@]\u001b[39m\u001b[38;5;124m'\u001b[39m \n\u001b[1;32m      3\u001b[0m i\u001b[38;5;241m=\u001b[39m[\u001b[38;5;124m'\u001b[39m\u001b[38;5;124m$easy$\u001b[39m\u001b[38;5;124m'\u001b[39m]\n\u001b[0;32m----> 4\u001b[0m matches \u001b[38;5;241m=\u001b[39m \u001b[43mre\u001b[49m\u001b[38;5;241;43m.\u001b[39;49m\u001b[43mfindall\u001b[49m\u001b[43m(\u001b[49m\u001b[43msep\u001b[49m\u001b[43m,\u001b[49m\u001b[43m \u001b[49m\u001b[43mi\u001b[49m\u001b[43m)\u001b[49m\n",
      "File \u001b[0;32m/usr/lib/python3.11/re/__init__.py:216\u001b[0m, in \u001b[0;36mfindall\u001b[0;34m(pattern, string, flags)\u001b[0m\n\u001b[1;32m    208\u001b[0m \u001b[38;5;28;01mdef\u001b[39;00m \u001b[38;5;21mfindall\u001b[39m(pattern, string, flags\u001b[38;5;241m=\u001b[39m\u001b[38;5;241m0\u001b[39m):\n\u001b[1;32m    209\u001b[0m \u001b[38;5;250m    \u001b[39m\u001b[38;5;124;03m\"\"\"Return a list of all non-overlapping matches in the string.\u001b[39;00m\n\u001b[1;32m    210\u001b[0m \n\u001b[1;32m    211\u001b[0m \u001b[38;5;124;03m    If one or more capturing groups are present in the pattern, return\u001b[39;00m\n\u001b[0;32m   (...)\u001b[0m\n\u001b[1;32m    214\u001b[0m \n\u001b[1;32m    215\u001b[0m \u001b[38;5;124;03m    Empty matches are included in the result.\"\"\"\u001b[39;00m\n\u001b[0;32m--> 216\u001b[0m     \u001b[38;5;28;01mreturn\u001b[39;00m _compile(pattern, flags)\u001b[38;5;241m.\u001b[39mfindall(string)\n",
      "\u001b[0;31mTypeError\u001b[0m: expected string or bytes-like object, got 'list'"
     ]
    }
   ],
   "source": [
    "import re\n",
    "sep=r'[.,|$#@]' \n",
    "i=['$easy$']\n"
   ]
  },
  {
   "cell_type": "code",
   "execution_count": 21,
   "id": "7bcef4cf-277e-4b6d-8eda-af7411dcc196",
   "metadata": {},
   "outputs": [
    {
     "data": {
      "text/plain": [
       "['$', '$']"
      ]
     },
     "execution_count": 21,
     "metadata": {},
     "output_type": "execute_result"
    }
   ],
   "source": [
    "matches"
   ]
  },
  {
   "cell_type": "code",
   "execution_count": 6,
   "id": "a9db1299-579b-440c-83ea-a1e65b74164f",
   "metadata": {},
   "outputs": [
    {
     "data": {
      "text/plain": [
       "'.,|$#@'"
      ]
     },
     "execution_count": 6,
     "metadata": {},
     "output_type": "execute_result"
    }
   ],
   "source": [
    "sep"
   ]
  },
  {
   "cell_type": "code",
   "execution_count": 16,
   "id": "abcac20f-5338-4d35-ba1f-ec00e57fd27f",
   "metadata": {},
   "outputs": [
    {
     "data": {
      "text/plain": [
       "'.,|$#'"
      ]
     },
     "execution_count": 16,
     "metadata": {},
     "output_type": "execute_result"
    }
   ],
   "source": []
  },
  {
   "cell_type": "code",
   "execution_count": 32,
   "id": "c4c07a2b-2587-4b5a-b6d4-879fec1b3731",
   "metadata": {},
   "outputs": [
    {
     "name": "stdout",
     "output_type": "stream",
     "text": [
      "['$easy$']\n",
      "easy\n"
     ]
    }
   ],
   "source": [
    "for j in i:\n",
    "    matches = re.findall(sep, j)\n",
    "    print(i)\n",
    "    if matches[0] in sep:\n",
    "        j=j.replace(matches[0],\"\")\n",
    "        print(j)"
   ]
  },
  {
   "cell_type": "code",
   "execution_count": 114,
   "id": "f2211504-e09e-4a9f-acb7-05e3c47eb280",
   "metadata": {},
   "outputs": [
    {
     "name": "stdout",
     "output_type": "stream",
     "text": [
      "['', 'easy', '']\n",
      "['', 'problem', '']\n"
     ]
    }
   ],
   "source": [
    "words =  [\"$easy$\",\"$problem$\"]\n",
    "separator='$'\n",
    "list1=[]\n",
    "for i in words:\n",
    "        if separator in i:\n",
    "            i=i.split(separator)\n",
    "            print(i)\n",
    "            list1.append(i)\n",
    "        else:\n",
    "            list1.append([i])"
   ]
  },
  {
   "cell_type": "code",
   "execution_count": 115,
   "id": "7145d3ed-2c6b-4f96-8546-cc41719d2ca9",
   "metadata": {},
   "outputs": [
    {
     "data": {
      "text/plain": [
       "[['', 'easy', ''], ['', 'problem', '']]"
      ]
     },
     "execution_count": 115,
     "metadata": {},
     "output_type": "execute_result"
    }
   ],
   "source": [
    "list1"
   ]
  },
  {
   "cell_type": "code",
   "execution_count": 116,
   "id": "f1e64440-31c9-460b-b4c9-bd44bc22ee6b",
   "metadata": {},
   "outputs": [],
   "source": [
    "new_list = [item for sublist in list1 for item in sublist if item != \"\"]"
   ]
  },
  {
   "cell_type": "code",
   "execution_count": 117,
   "id": "d0ce65e1-1165-49d4-9a28-1d6157663229",
   "metadata": {},
   "outputs": [
    {
     "data": {
      "text/plain": [
       "['easy', 'problem']"
      ]
     },
     "execution_count": 117,
     "metadata": {},
     "output_type": "execute_result"
    }
   ],
   "source": [
    "new_list"
   ]
  },
  {
   "cell_type": "code",
   "execution_count": 101,
   "id": "a5cc3b51-26df-4960-8338-f3c04f662dd7",
   "metadata": {},
   "outputs": [
    {
     "data": {
      "text/plain": [
       "[]"
      ]
     },
     "execution_count": 101,
     "metadata": {},
     "output_type": "execute_result"
    }
   ],
   "source": [
    "list1"
   ]
  },
  {
   "cell_type": "code",
   "execution_count": null,
   "id": "35f0eb53-6e46-44cb-8841-1dd59c273a3a",
   "metadata": {},
   "outputs": [],
   "source": []
  }
 ],
 "metadata": {
  "kernelspec": {
   "display_name": "Python 3 (ipykernel)",
   "language": "python",
   "name": "python3"
  },
  "language_info": {
   "codemirror_mode": {
    "name": "ipython",
    "version": 3
   },
   "file_extension": ".py",
   "mimetype": "text/x-python",
   "name": "python",
   "nbconvert_exporter": "python",
   "pygments_lexer": "ipython3",
   "version": "3.11.2"
  }
 },
 "nbformat": 4,
 "nbformat_minor": 5
}
