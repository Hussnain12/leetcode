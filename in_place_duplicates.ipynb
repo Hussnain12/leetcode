{
 "cells": [
  {
   "cell_type": "code",
   "execution_count": 13,
   "id": "ccb8dfdd-40c0-4776-a5ce-c5f070de17f1",
   "metadata": {},
   "outputs": [
    {
     "name": "stdout",
     "output_type": "stream",
     "text": [
      "0\n",
      "[0, 0, 1, 1, 1, 2, 2, 3, 3, 4]\n",
      "1\n",
      "[0, 1, 1, 1, 2, 2, 3, 3, 4]\n",
      "2\n",
      "[0, 1, 1, 2, 2, 3, 3, 4]\n",
      "3\n",
      "[0, 1, 1, 2, 2, 3, 3, 4]\n",
      "4\n",
      "[0, 1, 1, 2, 3, 3, 4]\n",
      "5\n",
      "[0, 1, 1, 2, 3, 4]\n"
     ]
    },
    {
     "ename": "IndexError",
     "evalue": "list index out of range",
     "output_type": "error",
     "traceback": [
      "\u001b[0;31m---------------------------------------------------------------------------\u001b[0m",
      "\u001b[0;31mIndexError\u001b[0m                                Traceback (most recent call last)",
      "Cell \u001b[0;32mIn[13], line 6\u001b[0m\n\u001b[1;32m      4\u001b[0m \u001b[38;5;28mprint\u001b[39m(i)\n\u001b[1;32m      5\u001b[0m \u001b[38;5;28mprint\u001b[39m(nums)\n\u001b[0;32m----> 6\u001b[0m \u001b[38;5;28;01mif\u001b[39;00m nums[i] \u001b[38;5;241m==\u001b[39m \u001b[43mnums\u001b[49m\u001b[43m[\u001b[49m\u001b[43mi\u001b[49m\u001b[38;5;241;43m+\u001b[39;49m\u001b[38;5;241;43m1\u001b[39;49m\u001b[43m]\u001b[49m:\n\u001b[1;32m      7\u001b[0m     value\u001b[38;5;241m=\u001b[39mnums\u001b[38;5;241m.\u001b[39mpop(i\u001b[38;5;241m+\u001b[39m\u001b[38;5;241m1\u001b[39m)\n",
      "\u001b[0;31mIndexError\u001b[0m: list index out of range"
     ]
    }
   ],
   "source": [
    "k=0\n",
    "nums=[0,0,1,1,1,2,2,3,3,4]\n",
    "for i in range(0,len(nums)-1):\n",
    "    print(i)\n",
    "    print(nums)\n",
    "    if nums[i] == nums[i+1]:\n",
    "        value=nums.pop(i+1)\n",
    "        "
   ]
  },
  {
   "cell_type": "code",
   "execution_count": null,
   "id": "e5219a31-0a85-4e6b-b910-9d917913563d",
   "metadata": {},
   "outputs": [],
   "source": [
    "while nums:\n",
    "    "
   ]
  },
  {
   "cell_type": "code",
   "execution_count": 15,
   "id": "87cfae42-4b45-48e3-b7e7-e76796e5c9bc",
   "metadata": {},
   "outputs": [],
   "source": [
    "nums=[0,0,1,1,1,2,2,3,3,4]"
   ]
  },
  {
   "cell_type": "code",
   "execution_count": 21,
   "id": "968809c0-521d-43af-b4ed-6c95f569afc6",
   "metadata": {},
   "outputs": [],
   "source": [
    "nums=[nums[i] for i in range(0,len(nums)-1) if nums[i]!=nums[i+1]]"
   ]
  },
  {
   "cell_type": "code",
   "execution_count": 22,
   "id": "dc0034ea-7a83-4f3b-a097-0ad12151212e",
   "metadata": {},
   "outputs": [
    {
     "data": {
      "text/plain": [
       "[1]"
      ]
     },
     "execution_count": 22,
     "metadata": {},
     "output_type": "execute_result"
    }
   ],
   "source": [
    "nums"
   ]
  },
  {
   "cell_type": "code",
   "execution_count": 31,
   "id": "9eeeaf93-12c9-47d0-beaf-2c75a5d893ce",
   "metadata": {},
   "outputs": [
    {
     "name": "stdout",
     "output_type": "stream",
     "text": [
      "<class 'int'>\n"
     ]
    }
   ],
   "source": [
    "haystack = \"sadbutsad\"\n",
    "needle = \"sad\"\n",
    "if needle in haystack:\n",
    "    print(type(haystack.index(needle)))"
   ]
  },
  {
   "cell_type": "code",
   "execution_count": null,
   "id": "d43f8c93-5f07-41d4-a965-59b3bea4a5ff",
   "metadata": {},
   "outputs": [],
   "source": []
  }
 ],
 "metadata": {
  "kernelspec": {
   "display_name": "Python 3 (ipykernel)",
   "language": "python",
   "name": "python3"
  },
  "language_info": {
   "codemirror_mode": {
    "name": "ipython",
    "version": 3
   },
   "file_extension": ".py",
   "mimetype": "text/x-python",
   "name": "python",
   "nbconvert_exporter": "python",
   "pygments_lexer": "ipython3",
   "version": "3.11.2"
  }
 },
 "nbformat": 4,
 "nbformat_minor": 5
}
