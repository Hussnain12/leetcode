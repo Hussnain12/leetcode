{
 "cells": [
  {
   "cell_type": "code",
   "execution_count": 1,
   "id": "a14ac588-1c0c-4842-aa2e-e525df750aef",
   "metadata": {},
   "outputs": [],
   "source": [
    "#merge"
   ]
  },
  {
   "cell_type": "code",
   "execution_count": 10,
   "id": "49d55e2d-53fa-463e-9b99-adb563d91d23",
   "metadata": {},
   "outputs": [],
   "source": [
    "nums1=[1,2,3,0,0,0]\n",
    "nums2=[4,5]\n",
    "# nums1=nums1+num2"
   ]
  },
  {
   "cell_type": "code",
   "execution_count": 11,
   "id": "99e1b892-0e1e-4bcd-b7ed-f608398a1a69",
   "metadata": {},
   "outputs": [],
   "source": [
    "for i in nums2:\n",
    "    nums1.append(i)\n",
    "while True:\n",
    "    if 0 in nums1:\n",
    "        nums1.remove(0)\n",
    "    else:\n",
    "        break"
   ]
  },
  {
   "cell_type": "code",
   "execution_count": 12,
   "id": "27d0c3a8-768c-409a-a3b4-7bc46d64b27f",
   "metadata": {},
   "outputs": [
    {
     "data": {
      "text/plain": [
       "[1, 2, 3, 4, 5]"
      ]
     },
     "execution_count": 12,
     "metadata": {},
     "output_type": "execute_result"
    }
   ],
   "source": [
    "nums1"
   ]
  },
  {
   "cell_type": "code",
   "execution_count": null,
   "id": "f9691246-71d3-4b8c-9289-61a4e1170e49",
   "metadata": {},
   "outputs": [],
   "source": []
  }
 ],
 "metadata": {
  "kernelspec": {
   "display_name": "Python 3 (ipykernel)",
   "language": "python",
   "name": "python3"
  },
  "language_info": {
   "codemirror_mode": {
    "name": "ipython",
    "version": 3
   },
   "file_extension": ".py",
   "mimetype": "text/x-python",
   "name": "python",
   "nbconvert_exporter": "python",
   "pygments_lexer": "ipython3",
   "version": "3.11.2"
  }
 },
 "nbformat": 4,
 "nbformat_minor": 5
}
