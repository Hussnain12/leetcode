{
 "cells": [
  {
   "cell_type": "code",
   "execution_count": 1,
   "id": "289bf695-5a6e-4cb5-83fc-34f56cc6b454",
   "metadata": {},
   "outputs": [],
   "source": [
    "#keyboard row"
   ]
  },
  {
   "cell_type": "code",
   "execution_count": 19,
   "id": "ca869c1b-7dca-47c6-b98b-44cab60ea983",
   "metadata": {},
   "outputs": [],
   "source": [
    "qwerty=\"q w e r t y u i o p\".split(\" \")\n",
    "asdf=\"a s d f g h j k l\".split(\" \")\n",
    "zxc=\"z x c v b n m\".split(\" \")\n",
    "words = [\"Hello\",\"Alaska\",\"Dad\",\"Peace\"]"
   ]
  },
  {
   "cell_type": "code",
   "execution_count": 29,
   "id": "7b446778-5d80-485a-b56c-413b2b257435",
   "metadata": {},
   "outputs": [
    {
     "data": {
      "text/plain": [
       "['Alaska', 'Dad']"
      ]
     },
     "execution_count": 29,
     "metadata": {},
     "output_type": "execute_result"
    }
   ],
   "source": [
    "result = []\n",
    "set1 = set(\"qwertyuiop\")\n",
    "set2 = set(\"asdfghjkl\")\n",
    "set3 = set(\"zxcvbnm\")\n",
    "for word in words:\n",
    "\tw = set(word.lower())\n",
    "\tif w <= set1 or w <= set2 or w <= set3:\n",
    "\t\tresult.append(word)\n",
    "result"
   ]
  },
  {
   "cell_type": "code",
   "execution_count": 28,
   "id": "c1a9dad7-5530-446f-b7c5-ea486c793e68",
   "metadata": {},
   "outputs": [
    {
     "data": {
      "text/plain": [
       "'He'"
      ]
     },
     "execution_count": 28,
     "metadata": {},
     "output_type": "execute_result"
    }
   ],
   "source": [
    "words[0][:2]"
   ]
  },
  {
   "cell_type": "code",
   "execution_count": 20,
   "id": "24688dd2-cabb-45ec-9394-313182bd645a",
   "metadata": {},
   "outputs": [
    {
     "data": {
      "text/plain": [
       "(['q', 'w', 'e', 'r', 't', 'y', 'u', 'i', 'o', 'p'],\n",
       " ['a', 's', 'd', 'f', 'g', 'h', 'j', 'k', 'l'],\n",
       " ['z', 'x', 'c', 'v', 'b', 'n', 'm'])"
      ]
     },
     "execution_count": 20,
     "metadata": {},
     "output_type": "execute_result"
    }
   ],
   "source": [
    "qwerty,asdf,zxc"
   ]
  },
  {
   "cell_type": "code",
   "execution_count": null,
   "id": "e8fa062d-47fd-45d3-933d-8628227d0c00",
   "metadata": {},
   "outputs": [],
   "source": []
  }
 ],
 "metadata": {
  "kernelspec": {
   "display_name": "Python 3 (ipykernel)",
   "language": "python",
   "name": "python3"
  },
  "language_info": {
   "codemirror_mode": {
    "name": "ipython",
    "version": 3
   },
   "file_extension": ".py",
   "mimetype": "text/x-python",
   "name": "python",
   "nbconvert_exporter": "python",
   "pygments_lexer": "ipython3",
   "version": "3.11.2"
  }
 },
 "nbformat": 4,
 "nbformat_minor": 5
}
