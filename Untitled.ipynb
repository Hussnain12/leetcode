{
 "cells": [
  {
   "cell_type": "code",
   "execution_count": 1,
   "id": "66bba89f-bb97-4c15-afb5-d537d1d17d80",
   "metadata": {},
   "outputs": [],
   "source": [
    "#roman_integer_sum"
   ]
  },
  {
   "cell_type": "code",
   "execution_count": 2,
   "id": "f4778174-fc4e-4010-b5b4-2651d3b7bf4b",
   "metadata": {},
   "outputs": [
    {
     "data": {
      "text/plain": [
       "1"
      ]
     },
     "execution_count": 2,
     "metadata": {},
     "output_type": "execute_result"
    }
   ],
   "source": [
    "values={'I':1,'V':5,'X':10,'L':50,'C':100,'D':500,'M':1000}\n",
    "values['I']"
   ]
  },
  {
   "cell_type": "code",
   "execution_count": 3,
   "id": "53d83733-0aa7-4151-8942-319a5eeeec7b",
   "metadata": {},
   "outputs": [],
   "source": [
    "s='MCMXCIV'"
   ]
  },
  {
   "cell_type": "code",
   "execution_count": 16,
   "id": "a255af47-f490-4f29-91f7-01bd40fd0a13",
   "metadata": {},
   "outputs": [
    {
     "name": "stdout",
     "output_type": "stream",
     "text": [
      "False\n",
      "1000 0\n",
      "--- 1\n",
      "True\n",
      "1000 1000 M C 100\n",
      "1900 1000 M C 100\n",
      "2\n",
      "--- 3\n",
      "True\n",
      "1900 100 C X 10\n",
      "1990 100 C X 10\n",
      "4\n",
      "--- 5\n",
      "True\n",
      "1990 5 V I 1\n",
      "1994 5 V I 1\n",
      "6\n",
      "--- 7\n",
      "--- 8\n",
      "--- 9\n",
      "--- 10\n"
     ]
    }
   ],
   "source": [
    "values={'I':1,'V':5,'X':10,'L':50,'C':100,'D':500,'M':1000}\n",
    "sum=0\n",
    "i=0\n",
    "for count in range(0,len(s)):\n",
    "    # print(s[i+1])\n",
    "    # print(\"value s\",s[i],\"value of i\",i)\n",
    "    if i < len(s) - 1:\n",
    "        print(values[s[i]] < values[s[i+1]])\n",
    "        if values[s[i]] < values[s[i+1]]:\n",
    "            # print(sum)\n",
    "            print(sum,values[s[i+1]],s[i+1],s[i],values[s[i]])\n",
    "            sum = sum +  (values[s[i+1]] - values[s[i]])\n",
    "            # print(sum)\n",
    "            print(sum,values[s[i+1]],s[i+1],s[i],values[s[i]])\n",
    "            i+=1\n",
    "            print(i)\n",
    "        else:\n",
    "            sum+= values[s[i]]\n",
    "            print(sum,i)\n",
    "    else:\n",
    "        # sum+= values[s[i]]\n",
    "        # print(sum,i)\n",
    "        pass\n",
    "    i+=1\n",
    "    print(\"---\",i)\n",
    "# return sum"
   ]
  },
  {
   "cell_type": "code",
   "execution_count": null,
   "id": "1f807003-923d-49f9-90ad-6b682b3ccd8e",
   "metadata": {},
   "outputs": [],
   "source": [
    "for i in range(10):\n",
    "    if condition_met:  # Replace \"condition_met\" with the actual condition you want to check\n",
    "        i += 2\n",
    "    # Your code here - perform operations using the updated value of i\n",
    "    print(i)\n"
   ]
  }
 ],
 "metadata": {
  "kernelspec": {
   "display_name": "Python 3 (ipykernel)",
   "language": "python",
   "name": "python3"
  },
  "language_info": {
   "codemirror_mode": {
    "name": "ipython",
    "version": 3
   },
   "file_extension": ".py",
   "mimetype": "text/x-python",
   "name": "python",
   "nbconvert_exporter": "python",
   "pygments_lexer": "ipython3",
   "version": "3.11.2"
  }
 },
 "nbformat": 4,
 "nbformat_minor": 5
}
