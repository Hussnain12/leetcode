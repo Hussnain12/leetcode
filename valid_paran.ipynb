{
 "cells": [
  {
   "cell_type": "code",
   "execution_count": 13,
   "id": "5d14fb90-7d22-4776-9211-ac6af6aa9be3",
   "metadata": {},
   "outputs": [
    {
     "name": "stdout",
     "output_type": "stream",
     "text": [
      "open {\n",
      "['{']\n"
     ]
    }
   ],
   "source": [
    "s=\"){\"\n",
    "open_paran=[\"(\",\"{\",\"[\"]\n",
    "close_paran=[\")\",\"}\",\"]\"]\n",
    "open=[]\n",
    "for i in s:\n",
    "    if i in open_paran:\n",
    "        print(\"open\",i)\n",
    "        open.insert(0,i)\n",
    "        print(open)\n",
    "    elif i in close_paran and len(open)!=0:\n",
    "        a=open.pop(0)\n",
    "        print(f\"i = {i}, a ={a}\")\n",
    "        if a == '(' and i == ')':\n",
    "            pass\n",
    "        elif a == '{' and i == '}':\n",
    "            pass\n",
    "        elif a == '[' and i == ']':\n",
    "            pass\n",
    "        else:\n",
    "            print('false')\n",
    "            break"
   ]
  },
  {
   "cell_type": "code",
   "execution_count": 106,
   "id": "869fc5ac-7c11-452a-8c68-20ba509f8d35",
   "metadata": {},
   "outputs": [
    {
     "name": "stdout",
     "output_type": "stream",
     "text": [
      "[ ]\n",
      "( )\n",
      "( }\n",
      "False\n"
     ]
    }
   ],
   "source": [
    "for i in close[::-1]:\n",
    "    a=open.pop()\n",
    "    print(a,i)\n",
    "    if a == '(' and i == ')':\n",
    "        \n",
    "        pass\n",
    "    elif a == '{' and i == '}':\n",
    "        pass\n",
    "    elif a == '[' and i == ']':\n",
    "        pass\n",
    "    else:\n",
    "        print('False')\n",
    "        break"
   ]
  },
  {
   "cell_type": "code",
   "execution_count": 110,
   "id": "6ab5b956-7d47-47f7-80ef-028d7c30b1cf",
   "metadata": {},
   "outputs": [
    {
     "data": {
      "text/plain": [
       "['{', '[', '(', '(', '[']"
      ]
     },
     "execution_count": 110,
     "metadata": {},
     "output_type": "execute_result"
    }
   ],
   "source": [
    "open"
   ]
  },
  {
   "cell_type": "code",
   "execution_count": 111,
   "id": "83b73cd9-b24f-4695-a528-4430be22d9cf",
   "metadata": {},
   "outputs": [
    {
     "data": {
      "text/plain": [
       "[')', ']', '}', ')', ']']"
      ]
     },
     "execution_count": 111,
     "metadata": {},
     "output_type": "execute_result"
    }
   ],
   "source": [
    "close"
   ]
  },
  {
   "cell_type": "code",
   "execution_count": 37,
   "id": "a58ce459-724c-433f-9d1c-1264450399f1",
   "metadata": {},
   "outputs": [
    {
     "data": {
      "text/plain": [
       "'('"
      ]
     },
     "execution_count": 37,
     "metadata": {},
     "output_type": "execute_result"
    }
   ],
   "source": [
    "open.pop()"
   ]
  },
  {
   "cell_type": "code",
   "execution_count": 40,
   "id": "f807e457-ae45-4658-84d4-cc08998e1ce1",
   "metadata": {},
   "outputs": [
    {
     "ename": "ModuleNotFoundError",
     "evalue": "No module named 'switch'",
     "output_type": "error",
     "traceback": [
      "\u001b[0;31m---------------------------------------------------------------------------\u001b[0m",
      "\u001b[0;31mModuleNotFoundError\u001b[0m                       Traceback (most recent call last)",
      "Cell \u001b[0;32mIn[40], line 1\u001b[0m\n\u001b[0;32m----> 1\u001b[0m \u001b[38;5;28;01mimport\u001b[39;00m \u001b[38;5;21;01mswitch\u001b[39;00m\n",
      "\u001b[0;31mModuleNotFoundError\u001b[0m: No module named 'switch'"
     ]
    }
   ],
   "source": []
  },
  {
   "cell_type": "code",
   "execution_count": 75,
   "id": "75b4ebc3-515d-4612-be11-a3a8bd609243",
   "metadata": {},
   "outputs": [],
   "source": [
    "s=\"(){}}{\""
   ]
  },
  {
   "cell_type": "code",
   "execution_count": 81,
   "id": "8cc05f0e-4c6e-4627-a357-e5136a5e0ef7",
   "metadata": {},
   "outputs": [
    {
     "name": "stdout",
     "output_type": "stream",
     "text": [
      ") i\n",
      "poping : (\n",
      "b 2\n",
      "c 2\n"
     ]
    },
    {
     "data": {
      "text/plain": [
       "True"
      ]
     },
     "execution_count": 81,
     "metadata": {},
     "output_type": "execute_result"
    }
   ],
   "source": [
    "def isValid(s: str) -> bool:\n",
    "    stack=[]\n",
    "    opennings=[\"[\",\"{\",\"(\"]\n",
    "    closings=[\"]\",\"}\",\")\"]\n",
    "    for i in s:\n",
    "        if len(s)%2==0 and len(s)!=0:\n",
    "            # print(len(stack))\n",
    "            if i in opennings:\n",
    "                stack.append(i)\n",
    "            elif i in closings and len(stack)!=0:\n",
    "                print(i,\"i\")\n",
    "                a=stack.pop()\n",
    "                print(\"poping :\",a)\n",
    "                b=opennings.index(a)\n",
    "                print(\"b\",b)\n",
    "                c=closings.index(i)\n",
    "                print(\"c\",c)\n",
    "                if b==c:\n",
    "                    return True\n",
    "            else:\n",
    "                return False\n",
    "        else:\n",
    "            return False\n",
    "isValid(s)"
   ]
  },
  {
   "cell_type": "code",
   "execution_count": null,
   "id": "df875b16-3bcf-4fdb-9ac4-7c567342f992",
   "metadata": {},
   "outputs": [],
   "source": [
    "def isValid(self, s: str) -> bool:\n",
    "    stack=[]\n",
    "    opennings=[\"[\",\"{\",\"(\"]\n",
    "    closings=[\"]\",\"}\",\")\"]\n",
    "    for j,i in enumerate(s):\n",
    "        if len(s)%2==0 and len(s)!=0:\n",
    "            print(len(stack))\n",
    "            if i in opennings:\n",
    "                stack.append(i)\n",
    "            elif i in closings and len(stack)!=0:\n",
    "                a=stack.pop()\n",
    "                print(a)\n",
    "                b=opennings.index(a)\n",
    "                print(\"b\",b)\n",
    "                c=closings.index(i)\n",
    "                print(\"c\",c)\n",
    "                if b==c: \n",
    "                    if j==len(s)-1:\n",
    "                        if (len(s)-len(s))/2==len(stack):\n",
    "                            return True\n",
    "                else:\n",
    "                    return False\n",
    "            else:\n",
    "                return False\n",
    "        else:\n",
    "            return False"
   ]
  }
 ],
 "metadata": {
  "kernelspec": {
   "display_name": "Python 3 (ipykernel)",
   "language": "python",
   "name": "python3"
  },
  "language_info": {
   "codemirror_mode": {
    "name": "ipython",
    "version": 3
   },
   "file_extension": ".py",
   "mimetype": "text/x-python",
   "name": "python",
   "nbconvert_exporter": "python",
   "pygments_lexer": "ipython3",
   "version": "3.11.2"
  }
 },
 "nbformat": 4,
 "nbformat_minor": 5
}
