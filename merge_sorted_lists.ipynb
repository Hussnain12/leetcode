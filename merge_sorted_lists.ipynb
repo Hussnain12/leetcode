{
 "cells": [
  {
   "cell_type": "code",
   "execution_count": 1,
   "id": "c39581ee-f483-4674-9242-3ee3470aa87a",
   "metadata": {},
   "outputs": [],
   "source": [
    "list1 = [1,2,4]\n",
    "list2 = [1,3,4]"
   ]
  },
  {
   "cell_type": "code",
   "execution_count": 12,
   "id": "0fbe3a67-fa9f-4f2e-92dd-50a2c045a3e8",
   "metadata": {},
   "outputs": [],
   "source": [
    "list1.sort()"
   ]
  },
  {
   "cell_type": "code",
   "execution_count": 14,
   "id": "83a299a7-6da0-4abb-9731-2d88ff4214d9",
   "metadata": {},
   "outputs": [],
   "source": [
    "new_list=[1,2,3,4]*4"
   ]
  },
  {
   "cell_type": "code",
   "execution_count": 13,
   "id": "6d75118e-a931-4600-b096-155837dbedc5",
   "metadata": {},
   "outputs": [
    {
     "data": {
      "text/plain": [
       "[1, 1, 2, 3, 4, 4]"
      ]
     },
     "execution_count": 13,
     "metadata": {},
     "output_type": "execute_result"
    }
   ],
   "source": [
    "sorted(list1+list2)"
   ]
  },
  {
   "cell_type": "code",
   "execution_count": 15,
   "id": "2df21a2f-3f90-4d58-8a61-cd6ef54e0728",
   "metadata": {},
   "outputs": [
    {
     "data": {
      "text/plain": [
       "[1, 2, 3, 4, 1, 2, 3, 4, 1, 2, 3, 4, 1, 2, 3, 4]"
      ]
     },
     "execution_count": 15,
     "metadata": {},
     "output_type": "execute_result"
    }
   ],
   "source": [
    "new_list"
   ]
  },
  {
   "cell_type": "code",
   "execution_count": null,
   "id": "091b660b-3ee1-4fb5-a173-d1b40a38bcf3",
   "metadata": {},
   "outputs": [],
   "source": []
  }
 ],
 "metadata": {
  "kernelspec": {
   "display_name": "Python 3 (ipykernel)",
   "language": "python",
   "name": "python3"
  },
  "language_info": {
   "codemirror_mode": {
    "name": "ipython",
    "version": 3
   },
   "file_extension": ".py",
   "mimetype": "text/x-python",
   "name": "python",
   "nbconvert_exporter": "python",
   "pygments_lexer": "ipython3",
   "version": "3.11.2"
  }
 },
 "nbformat": 4,
 "nbformat_minor": 5
}
