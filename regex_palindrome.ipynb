{
 "cells": [
  {
   "cell_type": "code",
   "execution_count": 138,
   "id": "f5683488-3693-47ec-a9f7-f31194bad415",
   "metadata": {},
   "outputs": [],
   "source": [
    "s = \"ab_a\"\n",
    "s=s.lower()"
   ]
  },
  {
   "cell_type": "code",
   "execution_count": 139,
   "id": "7cd0b8e5-18b2-4652-8f04-cf7766a72f83",
   "metadata": {},
   "outputs": [
    {
     "data": {
      "text/plain": [
       "'ab_a'"
      ]
     },
     "execution_count": 139,
     "metadata": {},
     "output_type": "execute_result"
    }
   ],
   "source": [
    "s"
   ]
  },
  {
   "cell_type": "code",
   "execution_count": 140,
   "id": "d2c29abc-d2e0-4cdb-bf6a-44672a27c730",
   "metadata": {},
   "outputs": [],
   "source": [
    "import re"
   ]
  },
  {
   "cell_type": "code",
   "execution_count": 141,
   "id": "7c3deac5-d800-4b54-94d2-cdef17110aac",
   "metadata": {},
   "outputs": [],
   "source": [
    "new=re.findall(\"[a-z0-9]\",s)"
   ]
  },
  {
   "cell_type": "code",
   "execution_count": 142,
   "id": "635645b7-2f14-421e-a5ea-48eb56c9cd59",
   "metadata": {},
   "outputs": [
    {
     "data": {
      "text/plain": [
       "['a', 'b', 'a']"
      ]
     },
     "execution_count": 142,
     "metadata": {},
     "output_type": "execute_result"
    }
   ],
   "source": [
    "new"
   ]
  },
  {
   "cell_type": "code",
   "execution_count": null,
   "id": "47f76f98-d9c0-4d0b-8073-bb4a3cc29eb5",
   "metadata": {},
   "outputs": [],
   "source": []
  },
  {
   "cell_type": "code",
   "execution_count": 143,
   "id": "d939c5bf-84f0-4489-aa8f-7ab1f4f86d52",
   "metadata": {},
   "outputs": [
    {
     "data": {
      "text/plain": [
       "'ab_a'"
      ]
     },
     "execution_count": 143,
     "metadata": {},
     "output_type": "execute_result"
    }
   ],
   "source": [
    "s"
   ]
  },
  {
   "cell_type": "code",
   "execution_count": 144,
   "id": "44eaae1c-f618-4c54-9ab0-01d82e8d4451",
   "metadata": {},
   "outputs": [
    {
     "data": {
      "text/plain": [
       "True"
      ]
     },
     "execution_count": 144,
     "metadata": {},
     "output_type": "execute_result"
    }
   ],
   "source": [
    "new[:] == new[::-1]"
   ]
  },
  {
   "cell_type": "code",
   "execution_count": 98,
   "id": "d5406e41-83d4-491e-8567-02d0e0d51526",
   "metadata": {},
   "outputs": [
    {
     "ename": "TypeError",
     "evalue": "replace() argument 1 must be str, not list",
     "output_type": "error",
     "traceback": [
      "\u001b[0;31m---------------------------------------------------------------------------\u001b[0m",
      "\u001b[0;31mTypeError\u001b[0m                                 Traceback (most recent call last)",
      "Cell \u001b[0;32mIn[98], line 1\u001b[0m\n\u001b[0;32m----> 1\u001b[0m \u001b[43ms\u001b[49m\u001b[38;5;241;43m.\u001b[39;49m\u001b[43mreplace\u001b[49m\u001b[43m(\u001b[49m\u001b[43mnew\u001b[49m\u001b[43m,\u001b[49m\u001b[38;5;124;43m\"\u001b[39;49m\u001b[38;5;124;43m\"\u001b[39;49m\u001b[43m)\u001b[49m\n",
      "\u001b[0;31mTypeError\u001b[0m: replace() argument 1 must be str, not list"
     ]
    }
   ],
   "source": []
  },
  {
   "cell_type": "code",
   "execution_count": null,
   "id": "efc5e3a8-8342-4e64-8f5e-5569c107aed0",
   "metadata": {},
   "outputs": [],
   "source": []
  }
 ],
 "metadata": {
  "kernelspec": {
   "display_name": "Python 3 (ipykernel)",
   "language": "python",
   "name": "python3"
  },
  "language_info": {
   "codemirror_mode": {
    "name": "ipython",
    "version": 3
   },
   "file_extension": ".py",
   "mimetype": "text/x-python",
   "name": "python",
   "nbconvert_exporter": "python",
   "pygments_lexer": "ipython3",
   "version": "3.11.2"
  }
 },
 "nbformat": 4,
 "nbformat_minor": 5
}
