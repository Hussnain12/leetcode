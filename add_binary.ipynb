{
 "cells": [
  {
   "cell_type": "code",
   "execution_count": 1,
   "id": "01cfe40f-5f1c-463f-90a8-ee43cc23eeb3",
   "metadata": {},
   "outputs": [],
   "source": [
    "#add binary"
   ]
  },
  {
   "cell_type": "code",
   "execution_count": 79,
   "id": "efec07da-506e-4b69-b2bc-c68b4b01b83b",
   "metadata": {},
   "outputs": [
    {
     "name": "stdout",
     "output_type": "stream",
     "text": [
      "0\n",
      "1\n"
     ]
    }
   ],
   "source": [
    "s='0'\n",
    "b='1'\n",
    "ans=0\n",
    "\n",
    "for i,j in enumerate(s[::-1]):\n",
    "    ans=ans+(int(j)*2**i)\n",
    "print(ans)\n",
    "for i,j in enumerate(b[::-1]):\n",
    "    ans=ans+(int(j)*2**i)\n",
    "print(ans)"
   ]
  },
  {
   "cell_type": "code",
   "execution_count": 61,
   "id": "ac236fbc-6f44-4fe3-b9b5-734f1b1ac845",
   "metadata": {},
   "outputs": [],
   "source": [
    "ans=bin(21)"
   ]
  },
  {
   "cell_type": "code",
   "execution_count": 62,
   "id": "733272ec-0bd4-4ef9-aa45-963a9376246a",
   "metadata": {},
   "outputs": [
    {
     "data": {
      "text/plain": [
       "'10101'"
      ]
     },
     "execution_count": 62,
     "metadata": {},
     "output_type": "execute_result"
    }
   ],
   "source": [
    "ans[2:]"
   ]
  },
  {
   "cell_type": "code",
   "execution_count": null,
   "id": "39bb6a3f-1cd0-4116-88f5-55ed84f93d4f",
   "metadata": {},
   "outputs": [],
   "source": [
    "s='11'\n",
    "b='1'\n"
   ]
  },
  {
   "cell_type": "code",
   "execution_count": 69,
   "id": "14b394a2-2d07-4724-9ac2-ca586e1fca86",
   "metadata": {},
   "outputs": [],
   "source": [
    "import time"
   ]
  },
  {
   "cell_type": "code",
   "execution_count": 82,
   "id": "0eb76831-fded-47b1-b469-791bdfd37c1a",
   "metadata": {},
   "outputs": [
    {
     "name": "stdout",
     "output_type": "stream",
     "text": [
      "1 0\n"
     ]
    }
   ],
   "source": [
    "qutionet=ans\n",
    "remainder=ans\n",
    "value=''\n",
    "while True:\n",
    "    remainder=qutionet%2\n",
    "    qutionet//=2\n",
    "    print(remainder,qutionet)\n",
    "    value+=str(remainder)\n",
    "    if qutionet < 2:\n",
    "        value+=str(qutionet)\n",
    "        break\n",
    "    # time.sleep(4)"
   ]
  },
  {
   "cell_type": "code",
   "execution_count": 93,
   "id": "08484fb2-6858-407a-b46f-7616bde09a73",
   "metadata": {},
   "outputs": [
    {
     "data": {
      "text/plain": [
       "'1'"
      ]
     },
     "execution_count": 93,
     "metadata": {},
     "output_type": "execute_result"
    }
   ],
   "source": [
    "value[0::-1]"
   ]
  },
  {
   "cell_type": "code",
   "execution_count": null,
   "id": "3580e999-248c-4786-90fb-672ccd57f701",
   "metadata": {},
   "outputs": [],
   "source": []
  }
 ],
 "metadata": {
  "kernelspec": {
   "display_name": "Python 3 (ipykernel)",
   "language": "python",
   "name": "python3"
  },
  "language_info": {
   "codemirror_mode": {
    "name": "ipython",
    "version": 3
   },
   "file_extension": ".py",
   "mimetype": "text/x-python",
   "name": "python",
   "nbconvert_exporter": "python",
   "pygments_lexer": "ipython3",
   "version": "3.11.2"
  }
 },
 "nbformat": 4,
 "nbformat_minor": 5
}
