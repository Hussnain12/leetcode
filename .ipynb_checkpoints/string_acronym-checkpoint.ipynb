{
 "cells": [
  {
   "cell_type": "code",
   "execution_count": 2,
   "id": "83557671-eebf-47c6-9538-ff87d861d7d9",
   "metadata": {},
   "outputs": [],
   "source": [
    "# string_acronym"
   ]
  },
  {
   "cell_type": "code",
   "execution_count": 4,
   "id": "6728375e-bf48-47bc-aba5-cc5fe3425481",
   "metadata": {},
   "outputs": [
    {
     "ename": "SyntaxError",
     "evalue": "'return' outside function (2141692306.py, line 6)",
     "output_type": "error",
     "traceback": [
      "\u001b[0;36m  Cell \u001b[0;32mIn[4], line 6\u001b[0;36m\u001b[0m\n\u001b[0;31m    return False\u001b[0m\n\u001b[0m    ^\u001b[0m\n\u001b[0;31mSyntaxError\u001b[0m\u001b[0;31m:\u001b[0m 'return' outside function\n"
     ]
    }
   ],
   "source": [
    "s='abc'\n",
    "words=[\"alice\",\"bob\",\"charlie\"]\n",
    "count=0\n",
    "for i in words:\n",
    "    if i[0] != s[count]:\n",
    "        return False\n",
    "    count+=1\n",
    "return True"
   ]
  },
  {
   "cell_type": "code",
   "execution_count": null,
   "id": "4a17893b-7571-414c-8190-35e79f8d0053",
   "metadata": {},
   "outputs": [],
   "source": []
  }
 ],
 "metadata": {
  "kernelspec": {
   "display_name": "Python 3 (ipykernel)",
   "language": "python",
   "name": "python3"
  },
  "language_info": {
   "codemirror_mode": {
    "name": "ipython",
    "version": 3
   },
   "file_extension": ".py",
   "mimetype": "text/x-python",
   "name": "python",
   "nbconvert_exporter": "python",
   "pygments_lexer": "ipython3",
   "version": "3.11.2"
  }
 },
 "nbformat": 4,
 "nbformat_minor": 5
}
