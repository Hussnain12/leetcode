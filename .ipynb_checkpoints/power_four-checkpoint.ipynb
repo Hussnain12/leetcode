{
 "cells": [
  {
   "cell_type": "code",
   "execution_count": null,
   "id": "afdbfe14-372c-4a06-8455-cef8de9dda9e",
   "metadata": {},
   "outputs": [],
   "source": [
    "power of four"
   ]
  }
 ],
 "metadata": {
  "kernelspec": {
   "display_name": "Python 3 (ipykernel)",
   "language": "python",
   "name": "python3"
  },
  "language_info": {
   "codemirror_mode": {
    "name": "ipython",
    "version": 3
   },
   "file_extension": ".py",
   "mimetype": "text/x-python",
   "name": "python",
   "nbconvert_exporter": "python",
   "pygments_lexer": "ipython3",
   "version": "3.11.2"
  }
 },
 "nbformat": 4,
 "nbformat_minor": 5
}
