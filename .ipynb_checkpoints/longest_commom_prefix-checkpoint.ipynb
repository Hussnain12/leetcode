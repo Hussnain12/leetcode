{
 "cells": [
  {
   "cell_type": "code",
   "execution_count": 1,
   "id": "96450eab-2625-40d0-b020-b3acda4c2dd3",
   "metadata": {},
   "outputs": [],
   "source": [
    "#instersection"
   ]
  },
  {
   "cell_type": "code",
   "execution_count": 11,
   "id": "af14f1b1-edb3-41d4-985c-ee827e1db1e5",
   "metadata": {},
   "outputs": [
    {
     "data": {
      "text/plain": [
       "{'f', 'l'}"
      ]
     },
     "execution_count": 11,
     "metadata": {},
     "output_type": "execute_result"
    }
   ],
   "source": [
    "s='flower'\n",
    "b='flow'\n",
    "c='flight'\n",
    "set(s).intersection(set(b),set(c))"
   ]
  },
  {
   "cell_type": "code",
   "execution_count": 12,
   "id": "676aeb61-7bbb-43fb-82f2-42267c88dc40",
   "metadata": {},
   "outputs": [
    {
     "ename": "TypeError",
     "evalue": "'set' object is not subscriptable",
     "output_type": "error",
     "traceback": [
      "\u001b[0;31m---------------------------------------------------------------------------\u001b[0m",
      "\u001b[0;31mTypeError\u001b[0m                                 Traceback (most recent call last)",
      "Cell \u001b[0;32mIn[12], line 5\u001b[0m\n\u001b[1;32m      3\u001b[0m \u001b[38;5;28;01mfor\u001b[39;00m i \u001b[38;5;129;01min\u001b[39;00m \u001b[38;5;28mrange\u001b[39m(\u001b[38;5;241m0\u001b[39m,\u001b[38;5;28mlen\u001b[39m(strs)):\n\u001b[1;32m      4\u001b[0m     \u001b[38;5;28;01mfor\u001b[39;00m j \u001b[38;5;129;01min\u001b[39;00m \u001b[38;5;28mrange\u001b[39m(i,\u001b[38;5;28mlen\u001b[39m(strs)\u001b[38;5;241m-\u001b[39m\u001b[38;5;241m1\u001b[39m):\n\u001b[0;32m----> 5\u001b[0m         new_list\u001b[38;5;241m.\u001b[39mappend(\u001b[38;5;28mset\u001b[39m(\u001b[43mstrs\u001b[49m\u001b[43m[\u001b[49m\u001b[43mi\u001b[49m\u001b[43m]\u001b[49m)\u001b[38;5;241m.\u001b[39mintersection(\u001b[38;5;28mset\u001b[39m(strs[i\u001b[38;5;241m+\u001b[39m\u001b[38;5;241m1\u001b[39m])))\n\u001b[1;32m      6\u001b[0m         \u001b[38;5;28;01mbreak\u001b[39;00m\n\u001b[1;32m      7\u001b[0m \u001b[38;5;28mprint\u001b[39m(new_list)\n",
      "\u001b[0;31mTypeError\u001b[0m: 'set' object is not subscriptable"
     ]
    }
   ],
   "source": [
    "strs={'flower','flow'}\n",
    "new_list=[]\n",
    "for i in range(0,len(strs)):\n",
    "    for j in range(i,len(strs)-1):\n",
    "        new_list.append(set(strs[i]).intersection(set(strs[i+1])))\n",
    "        break\n",
    "print(new_list)\n"
   ]
  },
  {
   "cell_type": "code",
   "execution_count": 13,
   "id": "c934577c-ed34-4e45-81ce-4b249a81fcd3",
   "metadata": {},
   "outputs": [],
   "source": [
    "strs={'flower','flow'}"
   ]
  },
  {
   "cell_type": "code",
   "execution_count": 14,
   "id": "bffaf353-8ba7-4bda-b0f2-00db5076dbed",
   "metadata": {},
   "outputs": [],
   "source": [
    "strs.update('1')"
   ]
  },
  {
   "cell_type": "code",
   "execution_count": 15,
   "id": "66482a5d-0f4e-4168-afb7-7ee1ec52541c",
   "metadata": {},
   "outputs": [
    {
     "data": {
      "text/plain": [
       "{'1', 'flow', 'flower'}"
      ]
     },
     "execution_count": 15,
     "metadata": {},
     "output_type": "execute_result"
    }
   ],
   "source": [
    "strs"
   ]
  },
  {
   "cell_type": "code",
   "execution_count": null,
   "id": "fc716e43-f176-4cc6-a46c-c7b66b8dfe25",
   "metadata": {},
   "outputs": [],
   "source": [
    "intersection()"
   ]
  },
  {
   "cell_type": "code",
   "execution_count": 20,
   "id": "ce551a56-23d0-4664-acc3-2b9ecae69a0e",
   "metadata": {},
   "outputs": [
    {
     "ename": "TypeError",
     "evalue": "unsupported operand type(s) for -: 'str' and 'str'",
     "output_type": "error",
     "traceback": [
      "\u001b[0;31m---------------------------------------------------------------------------\u001b[0m",
      "\u001b[0;31mTypeError\u001b[0m                                 Traceback (most recent call last)",
      "Cell \u001b[0;32mIn[20], line 1\u001b[0m\n\u001b[0;32m----> 1\u001b[0m \u001b[43ms\u001b[49m\u001b[43m \u001b[49m\u001b[38;5;241;43m-\u001b[39;49m\u001b[43m \u001b[49m\u001b[43mb\u001b[49m\n",
      "\u001b[0;31mTypeError\u001b[0m: unsupported operand type(s) for -: 'str' and 'str'"
     ]
    }
   ],
   "source": [
    "raming=[value for value in s if s in b]"
   ]
  },
  {
   "cell_type": "code",
   "execution_count": 1,
   "id": "4b83041c-5a82-4264-bd31-51f78a42e887",
   "metadata": {},
   "outputs": [],
   "source": [
    "list1=['flow','fl']\n",
    "list1=[value for value in list1]"
   ]
  },
  {
   "cell_type": "code",
   "execution_count": 2,
   "id": "c2aba7fa-cd6a-4755-be8e-67e45539e796",
   "metadata": {},
   "outputs": [
    {
     "data": {
      "text/plain": [
       "['flow', 'fl']"
      ]
     },
     "execution_count": 2,
     "metadata": {},
     "output_type": "execute_result"
    }
   ],
   "source": [
    "list1"
   ]
  },
  {
   "cell_type": "code",
   "execution_count": 3,
   "id": "cfa9608b-1489-4963-944c-089015d15bb0",
   "metadata": {},
   "outputs": [
    {
     "name": "stdout",
     "output_type": "stream",
     "text": [
      "['']\n",
      "r car\n",
      "a car\n",
      "c car\n",
      "c car\n",
      "a car\n",
      "r car\n",
      "['', 'raccar']\n"
     ]
    }
   ],
   "source": [
    "strs=[\"dog\",\"racecar\",\"car\"]\n",
    "new_list=[]\n",
    "for i in range(0,len(strs)-1):\n",
    "    string=''\n",
    "    for j in strs[i]:\n",
    "        if j in strs[i+1]:\n",
    "            print(j,strs[i+1])\n",
    "            string+=j\n",
    "    new_list.append(string)\n",
    "    print(new_list)"
   ]
  },
  {
   "cell_type": "code",
   "execution_count": 10,
   "id": "c1a55c94-2347-4f91-9696-e3e4f7b344ca",
   "metadata": {},
   "outputs": [],
   "source": [
    "s='111'\n",
    "half=math.ceil(len(s)/2)"
   ]
  },
  {
   "cell_type": "code",
   "execution_count": 11,
   "id": "5c514992-2413-4052-bddd-95e0da33bd32",
   "metadata": {},
   "outputs": [
    {
     "data": {
      "text/plain": [
       "2"
      ]
     },
     "execution_count": 11,
     "metadata": {},
     "output_type": "execute_result"
    }
   ],
   "source": [
    "half"
   ]
  },
  {
   "cell_type": "code",
   "execution_count": 41,
   "id": "f147bb06-4a9d-468b-bf62-63dd38f0f6b4",
   "metadata": {},
   "outputs": [
    {
     "name": "stdout",
     "output_type": "stream",
     "text": [
      "ok\n"
     ]
    }
   ],
   "source": [
    "list_true=['true','true']\n",
    "if 'false' in list_true:\n",
    "    print('fail')\n",
    "else:\n",
    "    print('ok')"
   ]
  },
  {
   "cell_type": "code",
   "execution_count": 18,
   "id": "aed38997-2612-4e88-b124-1743b4833522",
   "metadata": {},
   "outputs": [],
   "source": [
    "shortest_str='flo'"
   ]
  },
  {
   "cell_type": "code",
   "execution_count": 19,
   "id": "2930f2bd-b10f-4e8c-a006-cf1e9addc6a2",
   "metadata": {},
   "outputs": [],
   "source": [
    "if len(shortest_str) <4:\n",
    "    half=len(shortest_str)//2\n",
    "else:\n",
    "    half=math.ceil(len(shortest_str)/2)"
   ]
  },
  {
   "cell_type": "code",
   "execution_count": 20,
   "id": "1e8d6001-1f9f-422a-ad0c-28fa1d759853",
   "metadata": {},
   "outputs": [
    {
     "data": {
      "text/plain": [
       "int"
      ]
     },
     "execution_count": 20,
     "metadata": {},
     "output_type": "execute_result"
    }
   ],
   "source": [
    "type(half)"
   ]
  },
  {
   "cell_type": "code",
   "execution_count": 21,
   "id": "9ad91e53-66ee-4fb4-b715-0581592957a7",
   "metadata": {},
   "outputs": [
    {
     "data": {
      "text/plain": [
       "1"
      ]
     },
     "execution_count": 21,
     "metadata": {},
     "output_type": "execute_result"
    }
   ],
   "source": [
    "half"
   ]
  },
  {
   "cell_type": "code",
   "execution_count": 30,
   "id": "0981fffa-d44d-4fee-a363-126a0424568b",
   "metadata": {},
   "outputs": [],
   "source": [
    "empty=[\"\"]\n",
    "# empty[0]"
   ]
  },
  {
   "cell_type": "code",
   "execution_count": 33,
   "id": "ee5c82d8-ada3-494f-ae65-244c3ad56b09",
   "metadata": {},
   "outputs": [
    {
     "name": "stdout",
     "output_type": "stream",
     "text": [
      "\n"
     ]
    }
   ],
   "source": [
    "if empty:\n",
    "    print(empty[0])"
   ]
  },
  {
   "cell_type": "code",
   "execution_count": 35,
   "id": "03fe9b3a-2c2e-4ac2-b2be-b6ae86cfd2ac",
   "metadata": {},
   "outputs": [],
   "source": [
    "short='flower'"
   ]
  },
  {
   "cell_type": "code",
   "execution_count": 38,
   "id": "64ed6b6f-f204-426a-85fb-d999dc68ad54",
   "metadata": {},
   "outputs": [],
   "source": [
    "other_half=short[3:]"
   ]
  },
  {
   "cell_type": "code",
   "execution_count": 39,
   "id": "8d792228-0f7b-40c7-8f45-dbde270e3ae6",
   "metadata": {},
   "outputs": [
    {
     "data": {
      "text/plain": [
       "'wer'"
      ]
     },
     "execution_count": 39,
     "metadata": {},
     "output_type": "execute_result"
    }
   ],
   "source": [
    "other_half"
   ]
  },
  {
   "cell_type": "code",
   "execution_count": 47,
   "id": "a64fe7df-9b7c-4f86-bce9-a87eedf2a02f",
   "metadata": {},
   "outputs": [
    {
     "name": "stdout",
     "output_type": "stream",
     "text": [
      "flow\n",
      "fl\n",
      "this one is done\n",
      "flower ow\n",
      "flow ow\n",
      "flight ow\n",
      "returning this one\n"
     ]
    },
    {
     "data": {
      "text/plain": [
       "'fl'"
      ]
     },
     "execution_count": 47,
     "metadata": {},
     "output_type": "execute_result"
    }
   ],
   "source": [
    "def longestCommonPrefix(strs):\n",
    "        \"\"\"\n",
    "        :type strs: List[str]\n",
    "        :rtype: str\n",
    "        \"\"\"\n",
    "        if len(strs) == 1:\n",
    "            # print()\n",
    "            return strs[0]\n",
    "        elif len(strs) < 1:\n",
    "            print(\"lenth is 0\")\n",
    "            return \"\"\n",
    "        shortest_str=strs[0]\n",
    "        for i in range(len(strs)):\n",
    "            if len(shortest_str) > len(strs[i]):\n",
    "                shortest_str=strs[i]\n",
    "        if 1 < len(shortest_str) <4:\n",
    "            half=(len(shortest_str)//2)\n",
    "        elif len(shortest_str) == 1:\n",
    "            half=1\n",
    "        else:\n",
    "            half=int(math.ceil(len(shortest_str)/2))\n",
    "        list_true=[]\n",
    "        print(shortest_str)\n",
    "        print(shortest_str[:half])\n",
    "        for i in strs:\n",
    "            if i.startswith(shortest_str[:half]):\n",
    "                list_true.append('true')\n",
    "            else:\n",
    "                list_true.append('false')\n",
    "        check_other=False\n",
    "        if 'false' in list_true:\n",
    "            return \"\"\n",
    "        else:\n",
    "            check_other=True\n",
    "        print(\"this one is done\")\n",
    "        list_true=[]\n",
    "        if check_other:\n",
    "            for i in strs:\n",
    "                if i.endswith(shortest_str[half:]):\n",
    "                    print(i,shortest_str[half:])\n",
    "                    list_true.append('true')\n",
    "                else:\n",
    "                    list_true.append('false')\n",
    "                    print(i,shortest_str[half:])\n",
    "    \n",
    "        if 'false' in list_true:\n",
    "            print(\"returning this one\")\n",
    "            return shortest_str[:half]\n",
    "        else:\n",
    "            print(\"returning this one\")\n",
    "            return shortest_str\n",
    "given=['flower','flow','flight']\n",
    "longestCommonPrefix(given)"
   ]
  },
  {
   "cell_type": "code",
   "execution_count": 67,
   "id": "98cdcd03-c34c-4756-8bc6-8baf09ec230c",
   "metadata": {},
   "outputs": [],
   "source": [
    "def longestCommonPrefix(strs):\n",
    "    \"\"\"\n",
    "    :type strs: List[str]\n",
    "    :rtype: str\n",
    "    \"\"\"\n",
    "    if len(strs) == 1:\n",
    "        # print()\n",
    "        return strs[0]\n",
    "    elif len(strs) < 1:\n",
    "        print(\"lenth is 0\")\n",
    "        return \"\"\n",
    "    shortest_str=strs[0]\n",
    "    for i in range(len(strs)):\n",
    "        if len(shortest_str) > len(strs[i]):\n",
    "            shortest_str=strs[i]\n",
    "    if 1 < len(shortest_str) <4:\n",
    "        half=(len(shortest_str)//2)\n",
    "    elif len(shortest_str) == 1:\n",
    "        half=1\n",
    "    else:\n",
    "        half=int(math.ceil(len(shortest_str)/2))\n",
    "    list_true=[]\n",
    "    print(shortest_str)\n",
    "    print(shortest_str[:half])\n",
    "    for i in strs:\n",
    "        if i.startswith(shortest_str[:half]):\n",
    "            list_true.append('true')\n",
    "        else:\n",
    "            list_true.append('false')\n",
    "    check_other=False\n",
    "    check_first=False\n",
    "    check_2nd=False\n",
    "    if 'false' in list_true:\n",
    "        check_first=True\n",
    "        return other_half(check_first,check_2nd,half,shortest_str,strs)\n",
    "    else:\n",
    "        check_2nd=True\n",
    "        return other_half(check_first,check_2nd,half,shortest_str,strs)\n",
    "    \n",
    "\n",
    "\n",
    "            "
   ]
  },
  {
   "cell_type": "code",
   "execution_count": 151,
   "id": "3096e421-88c3-42c2-94f3-a764ebc3432d",
   "metadata": {},
   "outputs": [],
   "source": [
    "def other_half(first,second,length,shortest_str,strs):\n",
    "    half = length\n",
    "    count=0\n",
    "    if first:\n",
    "        while half >=1:\n",
    "            list_true=[]\n",
    "            for i in strs:\n",
    "                if i.startswith(shortest_str[:half-1]):\n",
    "                    list_true.append('true')\n",
    "                else:\n",
    "                    list_true.append('false')\n",
    "            if 'false' in list_true:\n",
    "                pass\n",
    "            else:\n",
    "                return shortest_str[:half-1]\n",
    "            half-=1\n",
    "    else:\n",
    "         return_1st=False\n",
    "         while count < len(strs):\n",
    "            new_data=''\n",
    "            print('i am here')\n",
    "            list_true=[]\n",
    "            for i in strs:\n",
    "                if i[half:].startswith(shortest_str[half:len(shortest_str)-count]):\n",
    "                    print(\"half i\",i[half:],\" and short_str half\",shortest_str[half:len(shortest_str)-count])\n",
    "                    list_true.append('true')\n",
    "                    new_data=shortest_str[half:len(shortest_str)-count]\n",
    "                else:\n",
    "                    list_true.append('false')\n",
    "            if 'false' in list_true:\n",
    "                return_1st=True\n",
    "            else:\n",
    "                print('retuned this 1')\n",
    "                print(f\"half {half} count {count}\")\n",
    "                print(\"shortest string\", shortest_str)\n",
    "                print(shortest_str[:half],shortest_str[half+count:],\"newdata\",new_data)\n",
    "                return shortest_str[:half] + new_data\n",
    "            count+=1\n",
    "         if return_1st:\n",
    "            print('retuned this')\n",
    "            return shortest_str[:half]"
   ]
  },
  {
   "cell_type": "code",
   "execution_count": 153,
   "id": "0005294c-059c-4a73-a8e1-bb814c6c6fb8",
   "metadata": {},
   "outputs": [
    {
     "name": "stdout",
     "output_type": "stream",
     "text": [
      "flower\n",
      "flo\n",
      "i am here\n",
      "half i wer  and short_str half wer\n",
      "half i wer  and short_str half wer\n",
      "half i wer  and short_str half wer\n",
      "retuned this 1\n",
      "half 3 count 0\n",
      "shortest string flower\n",
      "flo wer newdata wer\n"
     ]
    },
    {
     "data": {
      "text/plain": [
       "'flower'"
      ]
     },
     "execution_count": 153,
     "metadata": {},
     "output_type": "execute_result"
    }
   ],
   "source": [
    "given=[\"flower\",\"flower\",'flower']\n",
    "longestCommonPrefix(given)"
   ]
  },
  {
   "cell_type": "code",
   "execution_count": 154,
   "id": "cc6103ee-e446-472c-aea2-b7103ffe93dc",
   "metadata": {},
   "outputs": [],
   "source": [
    "if 'flower'.endswith('we'):\n",
    "    print(\"yer\")"
   ]
  },
  {
   "cell_type": "code",
   "execution_count": 63,
   "id": "72e1c4e0-61b8-449f-91cc-35fa360ec37a",
   "metadata": {},
   "outputs": [],
   "source": [
    "given=[\"\"]"
   ]
  },
  {
   "cell_type": "code",
   "execution_count": 64,
   "id": "32ff5979-f5f8-4e22-a97a-c8d7eebd1301",
   "metadata": {},
   "outputs": [
    {
     "data": {
      "text/plain": [
       "''"
      ]
     },
     "execution_count": 64,
     "metadata": {},
     "output_type": "execute_result"
    }
   ],
   "source": [
    "def longestCommonPrefix(strs):\n",
    "    minimum=min(strs,key=len)\n",
    "    count = 0\n",
    "    string=\"\"\n",
    "    for j in range(0,len(minimum)):\n",
    "        for i in strs:\n",
    "            if i[j:].startswith(minimum[j]):\n",
    "                # print(i[j:],\"--\",minimum[j])\n",
    "                pass\n",
    "            else:\n",
    "                return string\n",
    "        string+=minimum[j]\n",
    "    return string\n",
    "longestCommonPrefix(given)"
   ]
  },
  {
   "cell_type": "code",
   "execution_count": 29,
   "id": "bb64ca14-f5ac-4068-b85f-ab48af094918",
   "metadata": {},
   "outputs": [
    {
     "name": "stdout",
     "output_type": "stream",
     "text": [
      "flower\n",
      "flow\n",
      "flight\n",
      "flower\n",
      "flow\n",
      "flight\n",
      "flower\n",
      "flow\n",
      "flight\n"
     ]
    }
   ],
   "source": []
  },
  {
   "cell_type": "code",
   "execution_count": null,
   "id": "00d987de-c160-4ac8-bace-7fa8bf8c4a9a",
   "metadata": {},
   "outputs": [],
   "source": [
    "class Solution(object):\n",
    "    def other_half(self,first,second,length,shortest_str,strs):\n",
    "        half = length\n",
    "        count=0\n",
    "        if first:\n",
    "            while half >=1:\n",
    "                list_true=[]\n",
    "                for i in strs:\n",
    "                    if i.startswith(shortest_str[:half-1]):\n",
    "                        list_true.append('true')\n",
    "                    else:\n",
    "                        list_true.append('false')\n",
    "                if 'false' in list_true:\n",
    "                    pass\n",
    "                else:\n",
    "                    return shortest_str[:half-1]\n",
    "                half-=1\n",
    "        else:\n",
    "         return_1st=False\n",
    "         while count < len(strs):\n",
    "            new_data=''\n",
    "            print('i am here')\n",
    "            list_true=[]\n",
    "            for i in strs:\n",
    "                if i[half:].startswith(shortest_str[half:len(shortest_str)-count]):\n",
    "                    print(\"half i\",i[half:],\" and short_str half\",shortest_str[half:len(shortest_str)-count])\n",
    "                    list_true.append('true')\n",
    "                    new_data=shortest_str[half:len(shortest_str)-count]\n",
    "                else:\n",
    "                    list_true.append('false')\n",
    "            if 'false' in list_true:\n",
    "                return_1st=True\n",
    "            else:\n",
    "                print('retuned this 1')\n",
    "                # print(f\"half {half} count {count}\")\n",
    "                # print(\"shortest string\", shortest_str)\n",
    "                # print(shortest_str[:half],shortest_str[half+count:],\"newdata\",new_data)\n",
    "                return shortest_str[:half] + new_data\n",
    "            count+=1\n",
    "         if return_1st:\n",
    "            print('retuned this')\n",
    "            return shortest_str[:half]\n",
    "    def longestCommonPrefix(self, strs):\n",
    "        \"\"\"\n",
    "        :type strs: List[str]\n",
    "        :rtype: str\n",
    "        \"\"\"\n",
    "        if len(strs) == 1:\n",
    "            # print()\n",
    "            return strs[0]\n",
    "        elif len(strs) < 1:\n",
    "            print(\"lenth is 0\")\n",
    "            return \"\"\n",
    "        shortest_str=strs[0]\n",
    "        for i in range(len(strs)):\n",
    "            if len(shortest_str) > len(strs[i]):\n",
    "                shortest_str=strs[i]\n",
    "        if 1 < len(shortest_str) <4:\n",
    "            half=(len(shortest_str)//2)\n",
    "        elif len(shortest_str) == 1:\n",
    "            half=1\n",
    "        else:\n",
    "            half=int(math.ceil(len(shortest_str)/2))\n",
    "        list_true=[]\n",
    "        print(shortest_str)\n",
    "        print(shortest_str[:half])\n",
    "        for i in strs:\n",
    "            if i.startswith(shortest_str[:half]):\n",
    "                list_true.append('true')\n",
    "            else:\n",
    "                list_true.append('false')\n",
    "        check_other=False\n",
    "        check_first=False\n",
    "        check_2nd=False\n",
    "        if 'false' in list_true:\n",
    "            check_first=True\n",
    "            return self.other_half(check_first,check_2nd,half,shortest_str,strs)\n",
    "        else:\n",
    "            check_2nd=True\n",
    "            return self.other_half(check_first,check_2nd,half,shortest_str,strs)\n"
   ]
  }
 ],
 "metadata": {
  "kernelspec": {
   "display_name": "Python 3 (ipykernel)",
   "language": "python",
   "name": "python3"
  },
  "language_info": {
   "codemirror_mode": {
    "name": "ipython",
    "version": 3
   },
   "file_extension": ".py",
   "mimetype": "text/x-python",
   "name": "python",
   "nbconvert_exporter": "python",
   "pygments_lexer": "ipython3",
   "version": "3.11.2"
  }
 },
 "nbformat": 4,
 "nbformat_minor": 5
}
