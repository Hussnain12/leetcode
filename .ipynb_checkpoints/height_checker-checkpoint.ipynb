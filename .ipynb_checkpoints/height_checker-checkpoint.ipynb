{
 "cells": [
  {
   "cell_type": "code",
   "execution_count": 5,
   "id": "da0c0289-9016-4d9a-9435-8f43b57fab25",
   "metadata": {},
   "outputs": [],
   "source": [
    "heights=[5,1,2,3,4]"
   ]
  },
  {
   "cell_type": "code",
   "execution_count": 6,
   "id": "a2765f42-6ac1-48f8-a7d4-612c23399cb4",
   "metadata": {},
   "outputs": [
    {
     "data": {
      "text/plain": [
       "[1, 2, 3, 4, 5]"
      ]
     },
     "execution_count": 6,
     "metadata": {},
     "output_type": "execute_result"
    }
   ],
   "source": [
    "heights_1=sorted(heights)\n",
    "heights_1"
   ]
  },
  {
   "cell_type": "code",
   "execution_count": 7,
   "id": "05751e18-23f7-49a2-af91-896292a55a5b",
   "metadata": {},
   "outputs": [],
   "source": [
    "count=0\n",
    "for i in range(0,len(heights)):\n",
    "    if heights[i]!=heights_1[i]:\n",
    "        count+=1\n",
    "    "
   ]
  },
  {
   "cell_type": "code",
   "execution_count": 8,
   "id": "582a77aa-163b-47a6-9d3c-9322011d01ad",
   "metadata": {},
   "outputs": [
    {
     "data": {
      "text/plain": [
       "5"
      ]
     },
     "execution_count": 8,
     "metadata": {},
     "output_type": "execute_result"
    }
   ],
   "source": [
    "count"
   ]
  },
  {
   "cell_type": "code",
   "execution_count": null,
   "id": "4e64c014-736c-469e-8e8d-6b7ee99656e3",
   "metadata": {},
   "outputs": [],
   "source": []
  }
 ],
 "metadata": {
  "kernelspec": {
   "display_name": "Python 3 (ipykernel)",
   "language": "python",
   "name": "python3"
  },
  "language_info": {
   "codemirror_mode": {
    "name": "ipython",
    "version": 3
   },
   "file_extension": ".py",
   "mimetype": "text/x-python",
   "name": "python",
   "nbconvert_exporter": "python",
   "pygments_lexer": "ipython3",
   "version": "3.11.2"
  }
 },
 "nbformat": 4,
 "nbformat_minor": 5
}
