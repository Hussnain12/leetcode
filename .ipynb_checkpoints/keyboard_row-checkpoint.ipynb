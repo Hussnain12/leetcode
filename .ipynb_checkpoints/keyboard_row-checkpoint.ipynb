{
 "cells": [
  {
   "cell_type": "code",
   "execution_count": 1,
   "id": "289bf695-5a6e-4cb5-83fc-34f56cc6b454",
   "metadata": {},
   "outputs": [],
   "source": [
    "#keyboard row"
   ]
  },
  {
   "cell_type": "code",
   "execution_count": null,
   "id": "ca869c1b-7dca-47c6-b98b-44cab60ea983",
   "metadata": {},
   "outputs": [],
   "source": [
    "qwerty=\"qwertyuiop\"\n",
    "asdf=\"asdfghjkl\"\n",
    "zxc=\"zxcvbnm\"\n",
    "words = [\"Hello\",\"Alaska\",\"Dad\",\"Peace\"]"
   ]
  }
 ],
 "metadata": {
  "kernelspec": {
   "display_name": "Python 3 (ipykernel)",
   "language": "python",
   "name": "python3"
  },
  "language_info": {
   "codemirror_mode": {
    "name": "ipython",
    "version": 3
   },
   "file_extension": ".py",
   "mimetype": "text/x-python",
   "name": "python",
   "nbconvert_exporter": "python",
   "pygments_lexer": "ipython3",
   "version": "3.11.2"
  }
 },
 "nbformat": 4,
 "nbformat_minor": 5
}
