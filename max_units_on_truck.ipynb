{
 "cells": [
  {
   "cell_type": "code",
   "execution_count": 24,
   "id": "0063beb8-522c-4a40-b2e5-bd81373e96f1",
   "metadata": {},
   "outputs": [],
   "source": [
    "boxTypes = [[1,3],[2,2],[3,1]]\n",
    "truck_size=4"
   ]
  },
  {
   "cell_type": "code",
   "execution_count": 8,
   "id": "0ca7bf40-979b-4d1c-bc99-9feec5e0d601",
   "metadata": {},
   "outputs": [
    {
     "name": "stdout",
     "output_type": "stream",
     "text": [
      "1 3\n",
      "1*3 = 3\n",
      "2 2\n",
      "2*2 = 4\n",
      "3 1\n",
      "1\n",
      "boxunit 6\n",
      "3*1 = 3\n",
      "1 1\n",
      "1*1 = 1\n"
     ]
    }
   ],
   "source": [
    "box_unit=0\n",
    "box_types=0\n",
    "for i in range(0,len(boxTypes)):\n",
    "    print(boxTypes[i][0],boxTypes[i][1])\n",
    "    if box_unit <= truck_size:\n",
    "        \n",
    "        box_unit+=boxTypes[i][0]\n",
    "        if box_unit  > truck_size:\n",
    "            index=box_unit-truck_size\n",
    "            print(boxTypes[i][0] - index)\n",
    "            print(\"boxunit\",box_unit)\n",
    "    print(f\"{boxTypes[i][0]}*{boxTypes[i][1]} = {boxTypes[i][0]*boxTypes[i][1]}\")\n",
    "    # for j in range(0,len(i)):\n",
    "    #     print(i[0])\n",
    "    #     if j==0 and box_unit <= truck_size:\n",
    "    #         box_unit+=i[j]\n",
    "        "
   ]
  },
  {
   "cell_type": "code",
   "execution_count": 4,
   "id": "831aa6f3-6d00-4b83-b71b-a501a522b1af",
   "metadata": {},
   "outputs": [
    {
     "data": {
      "text/plain": [
       "6"
      ]
     },
     "execution_count": 4,
     "metadata": {},
     "output_type": "execute_result"
    }
   ],
   "source": [
    "box_unit"
   ]
  },
  {
   "cell_type": "code",
   "execution_count": 51,
   "id": "06c26177-1079-47b2-925b-06ce72f0e4ca",
   "metadata": {},
   "outputs": [
    {
     "data": {
      "text/plain": [
       "0"
      ]
     },
     "execution_count": 51,
     "metadata": {},
     "output_type": "execute_result"
    }
   ],
   "source": [
    "box_types"
   ]
  },
  {
   "cell_type": "code",
   "execution_count": 106,
   "id": "216b3452-54f8-46ed-a6f9-bf02dcbe6a51",
   "metadata": {},
   "outputs": [],
   "source": [
    "boxTypes = [[1,12],[6,11]]\n",
    "truck_size=5\n",
    "boxTypes.sort(key=lambda x: x[1],reverse=True)"
   ]
  },
  {
   "cell_type": "code",
   "execution_count": 107,
   "id": "b4e92c04-f312-4d67-a569-675abe058b17",
   "metadata": {},
   "outputs": [
    {
     "data": {
      "text/plain": [
       "[[1, 12], [6, 11]]"
      ]
     },
     "execution_count": 107,
     "metadata": {},
     "output_type": "execute_result"
    }
   ],
   "source": [
    "boxTypes"
   ]
  },
  {
   "cell_type": "code",
   "execution_count": 108,
   "id": "0a05714d-286b-4304-9531-090ee4e28b0d",
   "metadata": {},
   "outputs": [],
   "source": [
    "# formula = output = output + boxTypes[i][0] * boxTypes[i][1]"
   ]
  },
  {
   "cell_type": "code",
   "execution_count": 109,
   "id": "57043786-f3eb-4c89-93d8-8ecaee9eff78",
   "metadata": {},
   "outputs": [],
   "source": [
    "#sorted\n",
    "box_type=0\n",
    "output=0\n",
    "for i in range(0,len(boxTypes)):\n",
    "    box_type+=boxTypes[i][0]\n",
    "    if box_type > truck_size:\n",
    "        index=box_type-truck_size\n",
    "        index = boxTypes[i][0] - index\n",
    "        output = output + index * boxTypes[i][1]\n",
    "        break\n",
    "    else:\n",
    "        output = output + boxTypes[i][0] * boxTypes[i][1]"
   ]
  },
  {
   "cell_type": "code",
   "execution_count": 110,
   "id": "a1433842-0583-41e6-bb74-a976edc33d6a",
   "metadata": {},
   "outputs": [
    {
     "data": {
      "text/plain": [
       "56"
      ]
     },
     "execution_count": 110,
     "metadata": {},
     "output_type": "execute_result"
    }
   ],
   "source": [
    "output"
   ]
  },
  {
   "cell_type": "code",
   "execution_count": 55,
   "id": "243474d7-bab0-4294-b43d-8aa6a2b14cda",
   "metadata": {},
   "outputs": [
    {
     "name": "stdout",
     "output_type": "stream",
     "text": [
      "1\n",
      "3\n",
      "6\n"
     ]
    }
   ],
   "source": [
    "#sorted\n",
    "boxTypes = [[1,3],[2,2],[3,1]]\n",
    "truck_size=4\n",
    "box_type=0\n",
    "output=0\n",
    "for i in range(0,len(boxTypes)):\n",
    "    box_type+=boxTypes[i][0]\n",
    "    print(box_type)\n",
    "    if box_type > truck_size:\n",
    "        index=box_type-truck_size\n",
    "        index = boxTypes[i][0] - index\n",
    "        output = output + index * boxTypes[i][1]\n",
    "        break\n",
    "    else:\n",
    "        output = output + boxTypes[i][0] * boxTypes[i][1]"
   ]
  },
  {
   "cell_type": "code",
   "execution_count": 56,
   "id": "b890c793-c519-434a-9aa0-5b56188de4be",
   "metadata": {},
   "outputs": [
    {
     "data": {
      "text/plain": [
       "8"
      ]
     },
     "execution_count": 56,
     "metadata": {},
     "output_type": "execute_result"
    }
   ],
   "source": [
    "output"
   ]
  },
  {
   "cell_type": "code",
   "execution_count": null,
   "id": "2e702cf4-6b59-4e7b-8b7b-0820a2309c1a",
   "metadata": {},
   "outputs": [],
   "source": []
  }
 ],
 "metadata": {
  "kernelspec": {
   "display_name": "Python 3 (ipykernel)",
   "language": "python",
   "name": "python3"
  },
  "language_info": {
   "codemirror_mode": {
    "name": "ipython",
    "version": 3
   },
   "file_extension": ".py",
   "mimetype": "text/x-python",
   "name": "python",
   "nbconvert_exporter": "python",
   "pygments_lexer": "ipython3",
   "version": "3.11.2"
  }
 },
 "nbformat": 4,
 "nbformat_minor": 5
}
