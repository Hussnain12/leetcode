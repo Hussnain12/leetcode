{
 "cells": [
  {
   "cell_type": "code",
   "execution_count": 1,
   "id": "18a118f3-b322-4721-a310-b75f92acadb0",
   "metadata": {},
   "outputs": [],
   "source": [
    "#unique email"
   ]
  },
  {
   "cell_type": "code",
   "execution_count": 73,
   "id": "4683f02c-2e7e-4ffe-9de0-55e5e433fe06",
   "metadata": {},
   "outputs": [],
   "source": [
    "emails = [\"test.email+alex@leetcode.com\",\"test.e.mail+bob.cathy@leetcode.com\",\"testemail+david@lee.tcode.com\"]"
   ]
  },
  {
   "cell_type": "code",
   "execution_count": 76,
   "id": "6ce22707-1307-4671-9a8d-eb0dad25589d",
   "metadata": {},
   "outputs": [
    {
     "name": "stdout",
     "output_type": "stream",
     "text": [
      "testemail\n",
      "testemail\n",
      "testemail\n"
     ]
    }
   ],
   "source": [
    "unique_mail=[]\n",
    "for i in emails:\n",
    "    i,j=i.split('@')\n",
    "    i=i.split('+')\n",
    "    i=i[0].replace(\".\",\"\")\n",
    "    print(i)\n",
    "    if j!= \"leetcode.com\" :\n",
    "        new_mail=i+'@'+j\n",
    "        if new_mail  not in unique_mail:\n",
    "            unique_mail.append(new_mail)\n",
    "    else:\n",
    "        if i+'@'+j not in unique_mail:\n",
    "            unique_mail.append(i+'@'+j)\n",
    "        # unique_mail.append(i)\n",
    "    \n",
    "    "
   ]
  },
  {
   "cell_type": "code",
   "execution_count": 77,
   "id": "b5a217d6-5254-423f-924d-8af8cdd7910d",
   "metadata": {},
   "outputs": [
    {
     "data": {
      "text/plain": [
       "['testemail@leetcode.com', 'testemail@lee.tcode.com']"
      ]
     },
     "execution_count": 77,
     "metadata": {},
     "output_type": "execute_result"
    }
   ],
   "source": [
    "unique_mail"
   ]
  },
  {
   "cell_type": "code",
   "execution_count": null,
   "id": "b0216350-e239-4aa1-8b4f-1453c24dc5a9",
   "metadata": {},
   "outputs": [],
   "source": [
    "test.email+alex\n",
    "test.e.mail+bob.cathy\n",
    "testemail+david\n",
    "test.email\n",
    "test.e.mail\n",
    "testemail"
   ]
  },
  {
   "cell_type": "code",
   "execution_count": 80,
   "id": "1fb03c2c-48ea-477b-8307-7df63fb09e7f",
   "metadata": {},
   "outputs": [
    {
     "name": "stdout",
     "output_type": "stream",
     "text": [
      "testemail\n",
      "testemail\n",
      "testemail\n"
     ]
    }
   ],
   "source": [
    "unique_mail=[]\n",
    "count=0\n",
    "for i in emails:\n",
    "    i,j=i.split('@')\n",
    "    i=i.split('+')\n",
    "    i=i[0].replace(\".\",\"\")\n",
    "    print(i)\n",
    "    if j!= \"leetcode.com\" :\n",
    "        new_mail=i+'@'+j\n",
    "        if new_mail  not in unique_mail:\n",
    "            unique_mail.append(new_mail)\n",
    "            count+=1\n",
    "    else:\n",
    "        if i+'@'+j not in unique_mail:\n",
    "            unique_mail.append(i+'@'+j)\n",
    "            count+=1"
   ]
  },
  {
   "cell_type": "code",
   "execution_count": 81,
   "id": "3f04f7fd-296b-416b-a68d-558206424ffa",
   "metadata": {},
   "outputs": [
    {
     "data": {
      "text/plain": [
       "2"
      ]
     },
     "execution_count": 81,
     "metadata": {},
     "output_type": "execute_result"
    }
   ],
   "source": [
    "count"
   ]
  },
  {
   "cell_type": "code",
   "execution_count": 82,
   "id": "51362fd5-2c1f-4916-94e8-8609b01a9ee3",
   "metadata": {},
   "outputs": [
    {
     "data": {
      "text/plain": [
       "['', 'easy', '']"
      ]
     },
     "execution_count": 82,
     "metadata": {},
     "output_type": "execute_result"
    }
   ],
   "source": []
  },
  {
   "cell_type": "code",
   "execution_count": null,
   "id": "0c4b7e2e-b4a5-4465-b129-9bdfce19733c",
   "metadata": {},
   "outputs": [],
   "source": []
  }
 ],
 "metadata": {
  "kernelspec": {
   "display_name": "Python 3 (ipykernel)",
   "language": "python",
   "name": "python3"
  },
  "language_info": {
   "codemirror_mode": {
    "name": "ipython",
    "version": 3
   },
   "file_extension": ".py",
   "mimetype": "text/x-python",
   "name": "python",
   "nbconvert_exporter": "python",
   "pygments_lexer": "ipython3",
   "version": "3.11.2"
  }
 },
 "nbformat": 4,
 "nbformat_minor": 5
}
