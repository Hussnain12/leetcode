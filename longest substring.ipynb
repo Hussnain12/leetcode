{
 "cells": [
  {
   "cell_type": "code",
   "execution_count": 31,
   "id": "6527a391-3cf7-4c87-8925-600dfb2fa11c",
   "metadata": {},
   "outputs": [],
   "source": [
    "s = \"abc abc bb\"\n",
    "# s=list(s)\n",
    "    "
   ]
  },
  {
   "cell_type": "code",
   "execution_count": 10,
   "id": "55a181cf-5d20-4df4-8ba5-2090d806413e",
   "metadata": {},
   "outputs": [],
   "source": [
    "s=set(s)"
   ]
  },
  {
   "cell_type": "code",
   "execution_count": 11,
   "id": "6a6d6553-cca7-4e89-adb8-09ff0ab0a971",
   "metadata": {},
   "outputs": [
    {
     "data": {
      "text/plain": [
       "{'e', 'k', 'p', 'w'}"
      ]
     },
     "execution_count": 11,
     "metadata": {},
     "output_type": "execute_result"
    }
   ],
   "source": [
    "s"
   ]
  },
  {
   "cell_type": "code",
   "execution_count": 17,
   "id": "5beb5dcf-b64d-401a-b706-d34c35dcfe86",
   "metadata": {},
   "outputs": [
    {
     "name": "stdout",
     "output_type": "stream",
     "text": [
      "b\n",
      "c\n",
      "b\n",
      "c\n",
      "b\n",
      "c\n",
      "a\n",
      "c\n",
      "a\n",
      "b\n",
      "b\n",
      "b\n",
      "c\n",
      "b\n",
      "c\n",
      "b\n"
     ]
    }
   ],
   "source": [
    "while True:\n",
    "    if i < len(s) and s[i] == s[i+1]:\n",
    "        i+=2\n",
    "    elif not i < len(s) and s[i] == s[i+1]:\n",
    "        data+=s"
   ]
  },
  {
   "cell_type": "code",
   "execution_count": 24,
   "id": "0526f3ae-9ebe-4dd2-a55e-dfe51bbf416b",
   "metadata": {},
   "outputs": [
    {
     "data": {
      "text/plain": [
       "'abcabcbb'"
      ]
     },
     "execution_count": 24,
     "metadata": {},
     "output_type": "execute_result"
    }
   ],
   "source": [
    "s.replace(\" \",\"\")"
   ]
  },
  {
   "cell_type": "code",
   "execution_count": 25,
   "id": "cc422067-ffcf-4c8a-982c-f1b9a46d259c",
   "metadata": {},
   "outputs": [
    {
     "data": {
      "text/plain": [
       "'abc abc bb'"
      ]
     },
     "execution_count": 25,
     "metadata": {},
     "output_type": "execute_result"
    }
   ],
   "source": [
    "s.strip()"
   ]
  },
  {
   "cell_type": "code",
   "execution_count": 35,
   "id": "85f6862a-e34e-453a-ad5a-04600e72c366",
   "metadata": {},
   "outputs": [
    {
     "name": "stdout",
     "output_type": "stream",
     "text": [
      "a send\n",
      "1 \tend - start +1 max len 0\n",
      "b send\n",
      "2 \tend - start +1 max len 1\n",
      "c send\n",
      "3 \tend - start +1 max len 2\n",
      "a send\n",
      "3 ran\n",
      "3 \tend - start +1 max len 3\n",
      "b send\n",
      "4 ran\n",
      "3 \tend - start +1 max len 3\n",
      "c send\n",
      "5 ran\n",
      "3 \tend - start +1 max len 3\n",
      "b send\n",
      "6 ran\n",
      "2 \tend - start +1 max len 3\n",
      "b send\n",
      "7 ran\n",
      "1 \tend - start +1 max len 3\n",
      "3\n"
     ]
    }
   ],
   "source": [
    "def length_of_longest_substring(s):\n",
    "    char_index_map = {}  # To store the most recent index of each character\n",
    "    max_length = 0\n",
    "    start = 0  # Starting index of the current substring\n",
    "    \n",
    "    for end in range(len(s)):\n",
    "        print(f\"{s[end]} send\")\n",
    "        if s[end] in char_index_map and char_index_map[s[end]] >= start:\n",
    "            print(end,\"ran\")\n",
    "            start = char_index_map[s[end]] + 1\n",
    "        \n",
    "        char_index_map[s[end]] = end\n",
    "        print(end-start +1,\"\\tend - start +1\",\"max len\", max_length)\n",
    "        max_length = max(max_length, end - start + 1)\n",
    "    \n",
    "    return max_length\n",
    "\n",
    "# Test the function\n",
    "s = \"abcabcbb\"\n",
    "print(length_of_longest_substring(s))  # Output: 3\n"
   ]
  },
  {
   "cell_type": "code",
   "execution_count": null,
   "id": "f93d0c58-6cf7-4906-8c03-4b6795e947ba",
   "metadata": {},
   "outputs": [],
   "source": []
  }
 ],
 "metadata": {
  "kernelspec": {
   "display_name": "Python 3 (ipykernel)",
   "language": "python",
   "name": "python3"
  },
  "language_info": {
   "codemirror_mode": {
    "name": "ipython",
    "version": 3
   },
   "file_extension": ".py",
   "mimetype": "text/x-python",
   "name": "python",
   "nbconvert_exporter": "python",
   "pygments_lexer": "ipython3",
   "version": "3.11.2"
  }
 },
 "nbformat": 4,
 "nbformat_minor": 5
}
