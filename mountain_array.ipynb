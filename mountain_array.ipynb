{
 "cells": [
  {
   "cell_type": "code",
   "execution_count": 1,
   "id": "a78cc8a0-3b7c-496d-b859-95375c685211",
   "metadata": {},
   "outputs": [],
   "source": [
    "# mountain_array"
   ]
  },
  {
   "cell_type": "code",
   "execution_count": 47,
   "id": "20da40f6-9172-4fc3-9b9b-cd1b683fcaa2",
   "metadata": {},
   "outputs": [
    {
     "data": {
      "text/plain": [
       "7"
      ]
     },
     "execution_count": 47,
     "metadata": {},
     "output_type": "execute_result"
    }
   ],
   "source": [
    "arr = [3,6,5,6,7,6,5,3,0]\n",
    "max(arr)"
   ]
  },
  {
   "cell_type": "code",
   "execution_count": 45,
   "id": "9b8c78e8-daa0-40d6-8916-311898e51ced",
   "metadata": {},
   "outputs": [],
   "source": [
    "# len(arr),arr.index(3)"
   ]
  },
  {
   "cell_type": "code",
   "execution_count": 46,
   "id": "b9802c12-d74d-49c6-8cd4-d3ec86a0daa8",
   "metadata": {},
   "outputs": [
    {
     "name": "stdout",
     "output_type": "stream",
     "text": [
      "3 6\n",
      "ok\n",
      "6 5\n",
      "6 5 are =\n"
     ]
    }
   ],
   "source": [
    "count=0\n",
    "for i in range(0,arr.index(max(arr,key=int))):\n",
    "    print(arr[i] , arr[i+1] )\n",
    "    if arr[i] != arr[i+1] and arr[i]<arr[i+1]:\n",
    "        print(\"ok\")\n",
    "        count+=1\n",
    "    else:\n",
    "        print(arr[i] , arr[i+1] , \"are =\")\n",
    "        break"
   ]
  },
  {
   "cell_type": "code",
   "execution_count": 32,
   "id": "3739f837-c3e9-4833-8fe6-5610add4c13f",
   "metadata": {},
   "outputs": [
    {
     "name": "stdout",
     "output_type": "stream",
     "text": [
      "5 2\n",
      "ok\n",
      "2 1\n",
      "ok\n",
      "1 0\n",
      "ok\n"
     ]
    }
   ],
   "source": [
    "for i in range(arr.index(max(arr,key=int)),len(arr)-1):\n",
    "    print(arr[i] , arr[i+1] )\n",
    "    if arr[i] != arr[i+1] and arr[i] > arr[i+1]:\n",
    "        print(\"ok\")\n",
    "    else:\n",
    "        print(arr[i] , arr[i+1] , \"are =\")\n",
    "        break"
   ]
  },
  {
   "cell_type": "code",
   "execution_count": 43,
   "id": "e2a0d2c3-9fd7-4479-9ba6-9b9104e6feec",
   "metadata": {},
   "outputs": [],
   "source": [
    "if count:\n",
    "    print(\"no\")"
   ]
  },
  {
   "cell_type": "code",
   "execution_count": null,
   "id": "12529ec7-c65b-4611-a4e5-ed5f994ff90a",
   "metadata": {},
   "outputs": [],
   "source": []
  }
 ],
 "metadata": {
  "kernelspec": {
   "display_name": "Python 3 (ipykernel)",
   "language": "python",
   "name": "python3"
  },
  "language_info": {
   "codemirror_mode": {
    "name": "ipython",
    "version": 3
   },
   "file_extension": ".py",
   "mimetype": "text/x-python",
   "name": "python",
   "nbconvert_exporter": "python",
   "pygments_lexer": "ipython3",
   "version": "3.11.2"
  }
 },
 "nbformat": 4,
 "nbformat_minor": 5
}
