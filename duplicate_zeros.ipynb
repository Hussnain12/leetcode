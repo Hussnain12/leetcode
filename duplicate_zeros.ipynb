{
 "cells": [
  {
   "cell_type": "code",
   "execution_count": 1,
   "id": "d9a6eba8-4b83-4e0f-86d8-5e65ba1039f0",
   "metadata": {},
   "outputs": [],
   "source": [
    "# duplicate_zeros"
   ]
  },
  {
   "cell_type": "code",
   "execution_count": 38,
   "id": "c2e91a21-1cd6-4696-b6b0-3f4ecde0b279",
   "metadata": {},
   "outputs": [
    {
     "name": "stdout",
     "output_type": "stream",
     "text": [
      "0 9\n",
      "2 9\n",
      "3 9\n",
      "4 9\n",
      "6 9\n",
      "8 9\n"
     ]
    }
   ],
   "source": [
    "arr = [0,4,1,0,0,8,0,0,3]\n",
    "count=0\n",
    "while True:\n",
    "    if count >= len(arr):\n",
    "        break\n",
    "    print(count,len(arr))\n",
    "    if arr[count]==0 and count < len(arr)-1:\n",
    "        arr.insert(count+1,0)\n",
    "        count+=1\n",
    "        arr.pop()\n",
    "    count+=1"
   ]
  },
  {
   "cell_type": "code",
   "execution_count": 39,
   "id": "a9ff495c-759f-4c69-a9e6-e720eb4d04ae",
   "metadata": {},
   "outputs": [
    {
     "data": {
      "text/plain": [
       "[0, 0, 4, 1, 0, 0, 0, 0, 8]"
      ]
     },
     "execution_count": 39,
     "metadata": {},
     "output_type": "execute_result"
    }
   ],
   "source": [
    "arr"
   ]
  },
  {
   "cell_type": "code",
   "execution_count": null,
   "id": "f720d1af-7702-4348-8fee-c32a78c03dfa",
   "metadata": {},
   "outputs": [],
   "source": []
  }
 ],
 "metadata": {
  "kernelspec": {
   "display_name": "Python 3 (ipykernel)",
   "language": "python",
   "name": "python3"
  },
  "language_info": {
   "codemirror_mode": {
    "name": "ipython",
    "version": 3
   },
   "file_extension": ".py",
   "mimetype": "text/x-python",
   "name": "python",
   "nbconvert_exporter": "python",
   "pygments_lexer": "ipython3",
   "version": "3.11.2"
  }
 },
 "nbformat": 4,
 "nbformat_minor": 5
}
