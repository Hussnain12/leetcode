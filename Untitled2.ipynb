{
 "cells": [
  {
   "cell_type": "code",
   "execution_count": 22,
   "id": "f5a26716-a30f-417c-a7a2-4c743fd32169",
   "metadata": {},
   "outputs": [],
   "source": [
    "nums=[1,3,5]\n",
    "max_num = max(nums,key=int)"
   ]
  },
  {
   "cell_type": "code",
   "execution_count": 6,
   "id": "c5e4fff0-370d-47b6-981a-836edcce7452",
   "metadata": {},
   "outputs": [
    {
     "data": {
      "text/plain": [
       "5"
      ]
     },
     "execution_count": 6,
     "metadata": {},
     "output_type": "execute_result"
    }
   ],
   "source": [
    "max_num"
   ]
  },
  {
   "cell_type": "code",
   "execution_count": 27,
   "id": "5e5caca0-3514-48f4-b6e4-d1d35fb72cb5",
   "metadata": {},
   "outputs": [
    {
     "name": "stdout",
     "output_type": "stream",
     "text": [
      "5\n",
      "1\n"
     ]
    },
    {
     "data": {
      "text/plain": [
       "2"
      ]
     },
     "execution_count": 27,
     "metadata": {},
     "output_type": "execute_result"
    }
   ],
   "source": [
    "def searchInsert(nums, target: int) -> int:\n",
    "    if target in nums:\n",
    "        return nums.index(target)\n",
    "    else:\n",
    "        max_num = max(nums,key=int)\n",
    "        print(max_num)\n",
    "        min_num= min(nums,key=int)\n",
    "        print(min_num)\n",
    "        if target > max_num:\n",
    "            index_max=nums.index(max_num)\n",
    "            nums.insert(index_max+1,target)\n",
    "            return index_max+1\n",
    "        elif target < min_num:\n",
    "            return 0\n",
    "        else:\n",
    "            for i in range(0,len(nums)-1):\n",
    "                if target > nums[i] and target < nums[i+1]:\n",
    "                    # nums.insert(i+1,target)\n",
    "                    return i+1\n",
    "searchInsert(nums,4)"
   ]
  },
  {
   "cell_type": "code",
   "execution_count": 19,
   "id": "f5a559f6-7ff6-4fa7-bcef-62f55d0b555e",
   "metadata": {},
   "outputs": [
    {
     "data": {
      "text/plain": [
       "[1, 4, 3, 5]"
      ]
     },
     "execution_count": 19,
     "metadata": {},
     "output_type": "execute_result"
    }
   ],
   "source": [
    "nums"
   ]
  },
  {
   "cell_type": "code",
   "execution_count": 52,
   "id": "58dc09f7-75fd-4aac-a06b-dd52256ba340",
   "metadata": {},
   "outputs": [],
   "source": [
    "s=\" fly to the moon \"\n",
    "last_word=s.split(sep=None)"
   ]
  },
  {
   "cell_type": "code",
   "execution_count": 53,
   "id": "7fd51011-f914-4be7-bbea-806c43f9eb4e",
   "metadata": {},
   "outputs": [
    {
     "data": {
      "text/plain": [
       "'noomehtotylf'"
      ]
     },
     "execution_count": 53,
     "metadata": {},
     "output_type": "execute_result"
    }
   ],
   "source": [
    "word"
   ]
  },
  {
   "cell_type": "code",
   "execution_count": 54,
   "id": "54cc08a2-d0a3-4c2e-805b-f35d47c629c8",
   "metadata": {},
   "outputs": [
    {
     "data": {
      "text/plain": [
       "['fly', 'to', 'the', 'moon']"
      ]
     },
     "execution_count": 54,
     "metadata": {},
     "output_type": "execute_result"
    }
   ],
   "source": [
    "last_word"
   ]
  },
  {
   "cell_type": "code",
   "execution_count": 40,
   "id": "0a949079-74f5-4f88-90c4-a8b1c1fe1869",
   "metadata": {},
   "outputs": [],
   "source": [
    "if \"\" in last_word:\n",
    "    for i in last_word:\n",
    "        if i == \"\":\n",
    "            last_word.remove(\"\")\n",
    "            "
   ]
  },
  {
   "cell_type": "code",
   "execution_count": 41,
   "id": "b3fdc064-d41e-446d-ac85-010fd4fe3ac2",
   "metadata": {},
   "outputs": [
    {
     "data": {
      "text/plain": [
       "['fly', 'to', 'the', 'moon']"
      ]
     },
     "execution_count": 41,
     "metadata": {},
     "output_type": "execute_result"
    }
   ],
   "source": [
    "last_word"
   ]
  },
  {
   "cell_type": "code",
   "execution_count": null,
   "id": "6db671ec-ab19-4f92-95ec-a4ee6dd00ab1",
   "metadata": {},
   "outputs": [],
   "source": []
  }
 ],
 "metadata": {
  "kernelspec": {
   "display_name": "Python 3 (ipykernel)",
   "language": "python",
   "name": "python3"
  },
  "language_info": {
   "codemirror_mode": {
    "name": "ipython",
    "version": 3
   },
   "file_extension": ".py",
   "mimetype": "text/x-python",
   "name": "python",
   "nbconvert_exporter": "python",
   "pygments_lexer": "ipython3",
   "version": "3.11.2"
  }
 },
 "nbformat": 4,
 "nbformat_minor": 5
}
